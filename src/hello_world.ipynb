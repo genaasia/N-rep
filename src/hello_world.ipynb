{
 "cells": [
  {
   "cell_type": "code",
   "execution_count": null,
   "metadata": {},
   "outputs": [],
   "source": [
    "from text2sql import hello\n",
    "print(hello.message)"
   ]
  },
  {
   "cell_type": "code",
   "execution_count": null,
   "metadata": {},
   "outputs": [],
   "source": [
    "from dotenv import load_dotenv\n",
    "load_dotenv()"
   ]
  },
  {
   "cell_type": "code",
   "execution_count": 3,
   "metadata": {},
   "outputs": [],
   "source": [
    "import os\n",
    "import numpy as np\n",
    "\n",
    "from sklearn.metrics.pairwise import cosine_similarity\n",
    "\n",
    "from text2sql.engine.embeddings import AzureEmbedder, BedrockCohereEmbedder"
   ]
  },
  {
   "cell_type": "code",
   "execution_count": null,
   "metadata": {},
   "outputs": [],
   "source": [
    "api_key=os.environ.get(\"AZURE_OPENAI_API_KEY\")\n",
    "azure_endpoint=os.environ.get(\"AZURE_OPENAI_API_ENDPOINT\")\n",
    "api_version=os.environ.get(\"AZURE_OPENAI_API_VERSION\")\n",
    "model=os.environ.get(\"AZURE_OPENAI_MODEL\")\n",
    "print(f\"api_key: {api_key[:5]}\")\n",
    "print(f\"azure_endpoint: {azure_endpoint}\")\n",
    "print(f\"api_version: {api_version}\")\n",
    "print(f\"model: {model}\")"
   ]
  },
  {
   "cell_type": "code",
   "execution_count": 5,
   "metadata": {},
   "outputs": [],
   "source": [
    "azure_embedder = AzureEmbedder(\n",
    "    api_key=os.environ.get(\"AZURE_OPENAI_API_KEY\"),\n",
    "    azure_endpoint=os.environ.get(\"AZURE_OPENAI_API_ENDPOINT\"),\n",
    "    api_version=os.environ.get(\"AZURE_OPENAI_API_VERSION\"),\n",
    "    model=os.environ.get(\"AZURE_OPENAI_MODEL\"),\n",
    "    batch_size=1,\n",
    ")"
   ]
  },
  {
   "cell_type": "code",
   "execution_count": null,
   "metadata": {},
   "outputs": [],
   "source": [
    "bedrock_cohere_embedder = BedrockCohereEmbedder(\n",
    "    region_name=\"us-east-1\",\n",
    "    model=\"cohere.embed-multilingual-v3\",\n",
    "    input_type=\"clustering\",\n",
    "    batch_size=1,\n",
    ")"
   ]
  },
  {
   "cell_type": "code",
   "execution_count": 6,
   "metadata": {},
   "outputs": [],
   "source": [
    "texts = [\n",
    "    \"The Trojans, after a seven years’ voyage, set sail for Italy, but are overtaken by a dreadful storm, which Aeolus raises at the request of Juno.\",\n",
    "    \"트로이아군은 7년간의 항해 끝에 이탈리아로 항해를 떠났지만 주노의 요청으로 무서운 폭풍에 추월당합니다.\",\n",
    "    \"enus complains to Jupiter of her son’s misfortunes. Jupiter comforts her, and sends Mercury to procure him a kind reception among the Carthaginians.\",\n",
    "    \"에누스는 주피터에게 아들의 불행에 대해 불평합니다. 주피터는 그녀를 위로하고 머큐리를 보내 카르타고 인들 사이에서 아들을 친절하게 맞이합니다.\",\n",
    "]"
   ]
  },
  {
   "cell_type": "code",
   "execution_count": null,
   "metadata": {},
   "outputs": [],
   "source": [
    "azure_embeddings = azure_embedder.embed(texts, verbose=True)\n",
    "print(cosine_similarity(azure_embeddings, azure_embeddings))"
   ]
  },
  {
   "cell_type": "code",
   "execution_count": null,
   "metadata": {},
   "outputs": [],
   "source": [
    "bedrock_cohere_embeddings = bedrock_cohere_embedder.embed(texts, verbose=True)\n",
    "print(cosine_similarity(bedrock_cohere_embeddings, bedrock_cohere_embeddings))"
   ]
  },
  {
   "cell_type": "code",
   "execution_count": null,
   "metadata": {},
   "outputs": [],
   "source": []
  }
 ],
 "metadata": {
  "kernelspec": {
   "display_name": "text2sql",
   "language": "python",
   "name": "python3"
  },
  "language_info": {
   "codemirror_mode": {
    "name": "ipython",
    "version": 3
   },
   "file_extension": ".py",
   "mimetype": "text/x-python",
   "name": "python",
   "nbconvert_exporter": "python",
   "pygments_lexer": "ipython3",
   "version": "3.12.7"
  }
 },
 "nbformat": 4,
 "nbformat_minor": 2
}
