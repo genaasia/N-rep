{
 "cells": [
  {
   "cell_type": "code",
   "execution_count": 1,
   "metadata": {},
   "outputs": [
    {
     "name": "stdout",
     "output_type": "stream",
     "text": [
      "hello, world!\n"
     ]
    }
   ],
   "source": [
    "from text2sql import hello\n",
    "print(hello.message)"
   ]
  },
  {
   "cell_type": "code",
   "execution_count": 2,
   "metadata": {},
   "outputs": [
    {
     "data": {
      "text/plain": [
       "True"
      ]
     },
     "execution_count": 2,
     "metadata": {},
     "output_type": "execute_result"
    }
   ],
   "source": [
    "from dotenv import load_dotenv\n",
    "load_dotenv(\"local.env\")"
   ]
  },
  {
   "cell_type": "code",
   "execution_count": 3,
   "metadata": {},
   "outputs": [],
   "source": [
    "import os\n",
    "import numpy as np\n",
    "\n",
    "from sklearn.metrics.pairwise import cosine_similarity\n",
    "\n",
    "from text2sql.engine.embeddings import AzureEmbedder"
   ]
  },
  {
   "cell_type": "code",
   "execution_count": 4,
   "metadata": {},
   "outputs": [
    {
     "name": "stdout",
     "output_type": "stream",
     "text": [
      "api_key: 3dcb0\n",
      "azure_endpoint: https://gena-gpt-2.openai.azure.com/\n",
      "api_version: 2024-06-01\n",
      "model: gena-text-embedding-3-small\n"
     ]
    }
   ],
   "source": [
    "api_key=os.environ.get(\"AZURE_OPENAI_API_KEY\")\n",
    "azure_endpoint=os.environ.get(\"AZURE_OPENAI_API_ENDPOINT\")\n",
    "api_version=os.environ.get(\"AZURE_OPENAI_API_VERSION\")\n",
    "model=os.environ.get(\"AZURE_OPENAI_MODEL\")\n",
    "print(f\"api_key: {api_key[:5]}\")\n",
    "print(f\"azure_endpoint: {azure_endpoint}\")\n",
    "print(f\"api_version: {api_version}\")\n",
    "print(f\"model: {model}\")"
   ]
  },
  {
   "cell_type": "code",
   "execution_count": 5,
   "metadata": {},
   "outputs": [],
   "source": [
    "embedder = AzureEmbedder(\n",
    "    api_key=os.environ.get(\"AZURE_OPENAI_API_KEY\"),\n",
    "    azure_endpoint=os.environ.get(\"AZURE_OPENAI_API_ENDPOINT\"),\n",
    "    api_version=os.environ.get(\"AZURE_OPENAI_API_VERSION\"),\n",
    "    model=os.environ.get(\"AZURE_OPENAI_MODEL\"),\n",
    "    batch_size=1,\n",
    ")"
   ]
  },
  {
   "cell_type": "code",
   "execution_count": 6,
   "metadata": {},
   "outputs": [],
   "source": [
    "texts = [\n",
    "    \"The Trojans, after a seven years’ voyage, set sail for Italy, but are overtaken by a dreadful storm, which Aeolus raises at the request of Juno.\",\n",
    "    \"트로이아군은 7년간의 항해 끝에 이탈리아로 항해를 떠났지만 주노의 요청으로 무서운 폭풍에 추월당합니다.\",\n",
    "    \"enus complains to Jupiter of her son’s misfortunes. Jupiter comforts her, and sends Mercury to procure him a kind reception among the Carthaginians.\",\n",
    "    \"에누스는 주피터에게 아들의 불행에 대해 불평합니다. 주피터는 그녀를 위로하고 머큐리를 보내 카르타고 인들 사이에서 아들을 친절하게 맞이합니다.\",\n",
    "]"
   ]
  },
  {
   "cell_type": "code",
   "execution_count": 7,
   "metadata": {},
   "outputs": [
    {
     "name": "stderr",
     "output_type": "stream",
     "text": [
      "100%|██████████| 4/4 [00:01<00:00,  2.51it/s]\n"
     ]
    }
   ],
   "source": [
    "embeddings = embedder.embed(texts, verbose=True)"
   ]
  },
  {
   "cell_type": "code",
   "execution_count": 8,
   "metadata": {},
   "outputs": [
    {
     "name": "stdout",
     "output_type": "stream",
     "text": [
      "[[1.         0.31451158 0.46395302 0.07135151]\n",
      " [0.31451158 1.         0.1697474  0.22863711]\n",
      " [0.46395302 0.1697474  1.         0.31457679]\n",
      " [0.07135151 0.22863711 0.31457679 1.        ]]\n"
     ]
    }
   ],
   "source": [
    "print(cosine_similarity(embeddings, embeddings))"
   ]
  },
  {
   "cell_type": "code",
   "execution_count": null,
   "metadata": {},
   "outputs": [],
   "source": []
  }
 ],
 "metadata": {
  "kernelspec": {
   "display_name": "text2sql",
   "language": "python",
   "name": "python3"
  },
  "language_info": {
   "codemirror_mode": {
    "name": "ipython",
    "version": 3
   },
   "file_extension": ".py",
   "mimetype": "text/x-python",
   "name": "python",
   "nbconvert_exporter": "python",
   "pygments_lexer": "ipython3",
   "version": "3.12.7"
  }
 },
 "nbformat": 4,
 "nbformat_minor": 2
}
