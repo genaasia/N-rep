{
 "cells": [
  {
   "cell_type": "code",
   "execution_count": 1,
   "metadata": {},
   "outputs": [
    {
     "name": "stdout",
     "output_type": "stream",
     "text": [
      "hello, world!\n"
     ]
    }
   ],
   "source": [
    "from text2sql import hello\n",
    "print(hello.message)"
   ]
  },
  {
   "cell_type": "code",
   "execution_count": 2,
   "metadata": {},
   "outputs": [
    {
     "data": {
      "text/plain": [
       "True"
      ]
     },
     "execution_count": 2,
     "metadata": {},
     "output_type": "execute_result"
    }
   ],
   "source": [
    "from dotenv import load_dotenv\n",
    "load_dotenv()"
   ]
  },
  {
   "cell_type": "code",
   "execution_count": 3,
   "metadata": {},
   "outputs": [
    {
     "name": "stderr",
     "output_type": "stream",
     "text": [
      "/home/derek/miniconda3/envs/text2sql/lib/python3.12/site-packages/sentence_transformers/cross_encoder/CrossEncoder.py:13: TqdmWarning: IProgress not found. Please update jupyter and ipywidgets. See https://ipywidgets.readthedocs.io/en/stable/user_install.html\n",
      "  from tqdm.autonotebook import tqdm, trange\n"
     ]
    }
   ],
   "source": [
    "import os\n",
    "import numpy as np\n",
    "\n",
    "from sklearn.metrics.pairwise import cosine_similarity\n",
    "\n",
    "from text2sql.engine.embeddings import (\n",
    "    AzureEmbedder, \n",
    "    BedrockCohereEmbedder, \n",
    "    BedrockTitanv2Embedder, \n",
    "    SentenceTransformerEmbedder,\n",
    ")"
   ]
  },
  {
   "cell_type": "code",
   "execution_count": 15,
   "metadata": {},
   "outputs": [
    {
     "name": "stdout",
     "output_type": "stream",
     "text": [
      "api_key: 3dc\n",
      "azure_endpoint: https://gena-gpt-2.openai.azure.com/\n",
      "api_version: 2024-06-01\n",
      "model: gena-text-embedding-3-small\n"
     ]
    }
   ],
   "source": [
    "api_key=os.environ.get(\"AZURE_OPENAI_API_KEY\")\n",
    "azure_endpoint=os.environ.get(\"AZURE_OPENAI_API_ENDPOINT\")\n",
    "api_version=os.environ.get(\"AZURE_OPENAI_API_VERSION\")\n",
    "model=os.environ.get(\"AZURE_OPENAI_MODEL\")\n",
    "print(f\"api_key: {api_key[:3]}\")\n",
    "print(f\"azure_endpoint: {azure_endpoint}\")\n",
    "print(f\"api_version: {api_version}\")\n",
    "print(f\"model: {model}\")"
   ]
  },
  {
   "cell_type": "code",
   "execution_count": 5,
   "metadata": {},
   "outputs": [],
   "source": [
    "azure_embedder = AzureEmbedder(\n",
    "    api_key=os.environ.get(\"AZURE_OPENAI_API_KEY\"),\n",
    "    azure_endpoint=os.environ.get(\"AZURE_OPENAI_API_ENDPOINT\"),\n",
    "    api_version=os.environ.get(\"AZURE_OPENAI_API_VERSION\"),\n",
    "    model=os.environ.get(\"AZURE_OPENAI_MODEL\"),\n",
    "    batch_size=1,\n",
    ")"
   ]
  },
  {
   "cell_type": "code",
   "execution_count": 6,
   "metadata": {},
   "outputs": [],
   "source": [
    "bedrock_cohere_embedder = BedrockCohereEmbedder(\n",
    "    region_name=\"us-east-1\",\n",
    "    model=\"cohere.embed-multilingual-v3\",\n",
    "    input_type=\"clustering\",\n",
    "    batch_size=1,\n",
    ")"
   ]
  },
  {
   "cell_type": "code",
   "execution_count": 7,
   "metadata": {},
   "outputs": [],
   "source": [
    "bedrock_titan_embedder = BedrockTitanv2Embedder(\n",
    "    region_name=\"us-east-1\",\n",
    "    model=\"amazon.titan-embed-text-v2:0\",\n",
    "    dimensions=1024,\n",
    "    normalize=True,\n",
    "    batch_size=1,\n",
    ")"
   ]
  },
  {
   "cell_type": "code",
   "execution_count": 8,
   "metadata": {},
   "outputs": [
    {
     "name": "stderr",
     "output_type": "stream",
     "text": [
      "/home/derek/miniconda3/envs/text2sql/lib/python3.12/site-packages/transformers/tokenization_utils_base.py:1601: FutureWarning: `clean_up_tokenization_spaces` was not set. It will be set to `True` by default. This behavior will be depracted in transformers v4.45, and will be then set to `False` by default. For more details check this issue: https://github.com/huggingface/transformers/issues/31884\n",
      "  warnings.warn(\n"
     ]
    }
   ],
   "source": [
    "sentence_transformer_embedder = SentenceTransformerEmbedder(\n",
    "    model_path=\"sentence-transformers/LaBSE\"\n",
    ")"
   ]
  },
  {
   "cell_type": "code",
   "execution_count": 9,
   "metadata": {},
   "outputs": [],
   "source": [
    "texts = [\n",
    "    \"The Trojans, after a seven years’ voyage, set sail for Italy, but are overtaken by a dreadful storm, which Aeolus raises at the request of Juno.\",\n",
    "    \"트로이아군은 7년간의 항해 끝에 이탈리아로 항해를 떠났지만 주노의 요청으로 무서운 폭풍에 추월당합니다.\",\n",
    "    \"enus complains to Jupiter of her son’s misfortunes. Jupiter comforts her, and sends Mercury to procure him a kind reception among the Carthaginians.\",\n",
    "    \"에누스는 주피터에게 아들의 불행에 대해 불평합니다. 주피터는 그녀를 위로하고 머큐리를 보내 카르타고 인들 사이에서 아들을 친절하게 맞이합니다.\",\n",
    "]"
   ]
  },
  {
   "cell_type": "code",
   "execution_count": 10,
   "metadata": {},
   "outputs": [
    {
     "name": "stderr",
     "output_type": "stream",
     "text": [
      "/home/derek/miniconda3/envs/text2sql/lib/python3.12/site-packages/botocore/auth.py:424: DeprecationWarning: datetime.datetime.utcnow() is deprecated and scheduled for removal in a future version. Use timezone-aware objects to represent datetimes in UTC: datetime.datetime.now(datetime.UTC).\n",
      "  datetime_now = datetime.datetime.utcnow()\n"
     ]
    },
    {
     "name": "stdout",
     "output_type": "stream",
     "text": [
      "[8.8870525e-05, 0.052093506, 0.020202637, 0.044403076, -0.021209717, -0.023620605, -0.022064209, -0.027786255, -0.058898926, 0.028869629, 0.026016235, -0.04647827, 0.03491211, -0.014183044, 0.032592773, -0.03225708]\n"
     ]
    }
   ],
   "source": [
    "v = bedrock_cohere_embedder.embed(\"hello, world!\")\n",
    "print(v[:16])"
   ]
  },
  {
   "cell_type": "code",
   "execution_count": 11,
   "metadata": {},
   "outputs": [
    {
     "name": "stderr",
     "output_type": "stream",
     "text": [
      "100%|██████████| 4/4 [00:02<00:00,  1.75it/s]"
     ]
    },
    {
     "name": "stdout",
     "output_type": "stream",
     "text": [
      "[[1.         0.31451158 0.46395302 0.07135151]\n",
      " [0.31451158 1.         0.1697474  0.22863711]\n",
      " [0.46395302 0.1697474  1.         0.31457679]\n",
      " [0.07135151 0.22863711 0.31457679 1.        ]]\n"
     ]
    },
    {
     "name": "stderr",
     "output_type": "stream",
     "text": [
      "\n"
     ]
    }
   ],
   "source": [
    "azure_embeddings = azure_embedder.embed(texts, verbose=True)\n",
    "print(cosine_similarity(azure_embeddings, azure_embeddings))"
   ]
  },
  {
   "cell_type": "code",
   "execution_count": 12,
   "metadata": {},
   "outputs": [
    {
     "name": "stderr",
     "output_type": "stream",
     "text": [
      "  0%|          | 0/4 [00:00<?, ?it/s]/home/derek/miniconda3/envs/text2sql/lib/python3.12/site-packages/botocore/auth.py:424: DeprecationWarning: datetime.datetime.utcnow() is deprecated and scheduled for removal in a future version. Use timezone-aware objects to represent datetimes in UTC: datetime.datetime.now(datetime.UTC).\n",
      "  datetime_now = datetime.datetime.utcnow()\n",
      "100%|██████████| 4/4 [00:01<00:00,  3.51it/s]"
     ]
    },
    {
     "name": "stdout",
     "output_type": "stream",
     "text": [
      "[[1.         0.74092123 0.61986535 0.52285805]\n",
      " [0.74092123 1.         0.50399098 0.59554468]\n",
      " [0.61986535 0.50399098 1.         0.73378015]\n",
      " [0.52285805 0.59554468 0.73378015 1.        ]]\n"
     ]
    },
    {
     "name": "stderr",
     "output_type": "stream",
     "text": [
      "\n"
     ]
    }
   ],
   "source": [
    "bedrock_cohere_embeddings = bedrock_cohere_embedder.embed(texts, verbose=True)\n",
    "print(cosine_similarity(bedrock_cohere_embeddings, bedrock_cohere_embeddings))"
   ]
  },
  {
   "cell_type": "code",
   "execution_count": 13,
   "metadata": {},
   "outputs": [
    {
     "name": "stderr",
     "output_type": "stream",
     "text": [
      "  0%|          | 0/4 [00:00<?, ?it/s]/home/derek/miniconda3/envs/text2sql/lib/python3.12/site-packages/botocore/auth.py:424: DeprecationWarning: datetime.datetime.utcnow() is deprecated and scheduled for removal in a future version. Use timezone-aware objects to represent datetimes in UTC: datetime.datetime.now(datetime.UTC).\n",
      "  datetime_now = datetime.datetime.utcnow()\n",
      "100%|██████████| 4/4 [00:01<00:00,  2.25it/s]"
     ]
    },
    {
     "name": "stdout",
     "output_type": "stream",
     "text": [
      "[[1.         0.55039733 0.14172415 0.09633639]\n",
      " [0.55039733 1.         0.02770804 0.06834226]\n",
      " [0.14172415 0.02770804 1.         0.46775086]\n",
      " [0.09633639 0.06834226 0.46775086 1.        ]]\n"
     ]
    },
    {
     "name": "stderr",
     "output_type": "stream",
     "text": [
      "\n"
     ]
    }
   ],
   "source": [
    "bedrock_titan_embeddings = bedrock_titan_embedder.embed(texts, verbose=True)\n",
    "print(cosine_similarity(bedrock_titan_embeddings, bedrock_titan_embeddings))"
   ]
  },
  {
   "cell_type": "code",
   "execution_count": 14,
   "metadata": {},
   "outputs": [
    {
     "name": "stderr",
     "output_type": "stream",
     "text": [
      "100%|██████████| 4/4 [00:00<00:00,  7.37it/s]"
     ]
    },
    {
     "name": "stdout",
     "output_type": "stream",
     "text": [
      "[[1.0000001  0.85917854 0.30306768 0.35783553]\n",
      " [0.85917854 1.         0.2685324  0.36520082]\n",
      " [0.30306768 0.2685324  1.0000002  0.8163415 ]\n",
      " [0.35783553 0.36520082 0.8163415  1.        ]]\n"
     ]
    },
    {
     "name": "stderr",
     "output_type": "stream",
     "text": [
      "\n"
     ]
    }
   ],
   "source": [
    "sentence_transformer_embeddings = sentence_transformer_embedder.embed(texts, verbose=True)\n",
    "print(cosine_similarity(sentence_transformer_embeddings, sentence_transformer_embeddings))"
   ]
  }
 ],
 "metadata": {
  "kernelspec": {
   "display_name": "text2sql",
   "language": "python",
   "name": "python3"
  },
  "language_info": {
   "codemirror_mode": {
    "name": "ipython",
    "version": 3
   },
   "file_extension": ".py",
   "mimetype": "text/x-python",
   "name": "python",
   "nbconvert_exporter": "python",
   "pygments_lexer": "ipython3",
   "version": "3.12.7"
  }
 },
 "nbformat": 4,
 "nbformat_minor": 2
}
