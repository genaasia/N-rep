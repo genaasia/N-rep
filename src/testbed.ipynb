{
 "cells": [
  {
   "cell_type": "code",
   "execution_count": 52,
   "metadata": {},
   "outputs": [],
   "source": [
    "import json\n",
    "import uuid\n",
    "from abc import ABC, abstractmethod\n",
    "\n",
    "import numpy as np\n",
    "import tqdm\n",
    "import weaviate\n",
    "import weaviate.classes as wvc\n",
    "\n",
    "from sklearn.metrics.pairwise import distance_metrics, pairwise_distances\n",
    "from weaviate.classes.config import Property, DataType\n",
    "from weaviate.classes.query import MetadataQuery\n",
    "from weaviate.util import generate_uuid5\n",
    "\n",
    "from text2sql.engine.embeddings import SentenceTransformerEmbedder"
   ]
  },
  {
   "cell_type": "code",
   "execution_count": 2,
   "metadata": {},
   "outputs": [
    {
     "name": "stderr",
     "output_type": "stream",
     "text": [
      "/home/derek/miniconda3/envs/text2sql/lib/python3.12/site-packages/transformers/tokenization_utils_base.py:1601: FutureWarning: `clean_up_tokenization_spaces` was not set. It will be set to `True` by default. This behavior will be depracted in transformers v4.45, and will be then set to `False` by default. For more details check this issue: https://github.com/huggingface/transformers/issues/31884\n",
      "  warnings.warn(\n"
     ]
    }
   ],
   "source": [
    "sentence_transformer_embedder = SentenceTransformerEmbedder(\n",
    "    model_path=\"sentence-transformers/LaBSE\"\n",
    ")"
   ]
  },
  {
   "cell_type": "code",
   "execution_count": 3,
   "metadata": {},
   "outputs": [],
   "source": [
    "# test with text from aeneid (public domain) \n",
    "# https://classics.mit.edu/Virgil/aeneid.1.i.html\n",
    "import os\n",
    "\n",
    "with open(\"aeneid_sample.txt\") as f:\n",
    "    texts = f.read().split(\"\\n\")\n",
    "texts = [t.strip().lstrip() for t in texts if t]\n",
    "\n",
    "if not os.path.exists(\"aeneid_sample_embeddings.npy\"):\n",
    "    embeddings = sentence_transformer_embedder.embed(texts, verbose=True)\n",
    "    np.save(\"aeneid_sample_embeddings.npy\", embeddings)\n",
    "else:\n",
    "    embeddings = np.load(\"aeneid_sample_embeddings.npy\")\n",
    "assert len(embeddings) == len(texts)\n",
    "data = [{\"line\": line + 1, \"text\": text} for line, text in enumerate(texts)]"
   ]
  },
  {
   "cell_type": "code",
   "execution_count": 4,
   "metadata": {},
   "outputs": [],
   "source": [
    "class BaseRetriever(ABC):\n",
    "\n",
    "    @abstractmethod\n",
    "    def query():\n",
    "        pass"
   ]
  },
  {
   "cell_type": "code",
   "execution_count": 35,
   "metadata": {},
   "outputs": [],
   "source": [
    "class LocalRetriever(BaseRetriever):\n",
    "    \n",
    "    def __init__(self, embeddings: list[list[float]] | np.ndarray, data: list[dict], distance_metric: str = \"cosine\"):\n",
    "        if len(embeddings) != len(data):\n",
    "            raise ValueError(\"The number of embeddings must equal the number of data!\")\n",
    "        if distance_metric not in distance_metrics():\n",
    "            raise ValueError(f\"Unknown distance metric '{distance_metric}', must be one of {list(distance_metrics().keys())}\")\n",
    "        self.distance_metric = distance_metric\n",
    "        self.embeddings = np.array(embeddings)\n",
    "        self.data = data\n",
    "\n",
    "    def query(self, query_vector: list[float] | np.ndarray, top_k: int = 10) -> list[dict]:\n",
    "        query_vector = np.array(query_vector).reshape(1, -1)\n",
    "        distances = pairwise_distances(query_vector, self.embeddings, metric=self.distance_metric)[0]\n",
    "        indices = np.argsort(distances)\n",
    "        results = [{\"id\": int(i), \"distance\": float(distances[i]), \"data\": self.data[i]} for i in indices[:top_k]]\n",
    "        return results\n"
   ]
  },
  {
   "cell_type": "code",
   "execution_count": 36,
   "metadata": {},
   "outputs": [],
   "source": [
    "aeneid_local_retriever = LocalRetriever(embeddings=embeddings, data=data)"
   ]
  },
  {
   "cell_type": "code",
   "execution_count": 37,
   "metadata": {},
   "outputs": [],
   "source": [
    "query_text = \"Before his eyes his goddess mother stood:\"\n",
    "\n",
    "query_vector = sentence_transformer_embedder.embed(query_text)\n"
   ]
  },
  {
   "cell_type": "code",
   "execution_count": 38,
   "metadata": {},
   "outputs": [
    {
     "name": "stdout",
     "output_type": "stream",
     "text": [
      "{\n",
      "  \"id\": 434,\n",
      "  \"distance\": 0.0,\n",
      "  \"data\": {\n",
      "    \"line\": 435,\n",
      "    \"text\": \"Before his eyes his goddess mother stood:\"\n",
      "  }\n",
      "}\n",
      "{\n",
      "  \"id\": 826,\n",
      "  \"distance\": 0.38323378562927246,\n",
      "  \"data\": {\n",
      "    \"line\": 827,\n",
      "    \"text\": \"His mother goddess, with her hands divine,\"\n",
      "  }\n",
      "}\n",
      "{\n",
      "  \"id\": 487,\n",
      "  \"distance\": 0.47407424449920654,\n",
      "  \"data\": {\n",
      "    \"line\": 488,\n",
      "    \"text\": \"Of her unhappy lord: the spectre stares,\"\n",
      "  }\n",
      "}\n",
      "{\n",
      "  \"id\": 919,\n",
      "  \"distance\": 0.49701905250549316,\n",
      "  \"data\": {\n",
      "    \"line\": 920,\n",
      "    \"text\": \"Her mother Leda\\u2019s present, when she came\"\n",
      "  }\n",
      "}\n",
      "{\n",
      "  \"id\": 967,\n",
      "  \"distance\": 0.5039515495300293,\n",
      "  \"data\": {\n",
      "    \"line\": 968,\n",
      "    \"text\": \"He walks Iulus in his mother\\u2019s sight,\"\n",
      "  }\n",
      "}\n"
     ]
    }
   ],
   "source": [
    "local_responses = aeneid_local_retriever.query(query_vector, top_k=5)\n",
    "for d in local_responses:\n",
    "    print(json.dumps(d, indent=2))\n"
   ]
  },
  {
   "cell_type": "code",
   "execution_count": 21,
   "metadata": {},
   "outputs": [],
   "source": [
    "def weaviate_properties_from_dict(data_sample: dict) -> list[Property]:\n",
    "    \"\"\"get properties from a data sample\"\"\"\n",
    "    properties = []\n",
    "    for key, value in data_sample.items():\n",
    "        if isinstance(value, str):\n",
    "            prop_dtype = DataType.TEXT\n",
    "        elif isinstance(value, uuid.UUID):\n",
    "            prop_dtype = DataType.UUID\n",
    "        elif isinstance(value, int):\n",
    "            prop_dtype = DataType.INT\n",
    "        elif isinstance(value, float):\n",
    "            prop_dtype = DataType.NUMBER\n",
    "        elif isinstance(value, bool):\n",
    "            prop_dtype = DataType.BOOLEAN\n",
    "        elif isinstance(value, dict):\n",
    "            prop_dtype = DataType.OBJECT\n",
    "        elif isinstance(value, list):\n",
    "            if isinstance(value[0], str):\n",
    "                prop_dtype = DataType.TEXT_ARRAY\n",
    "            elif isinstance(value[0], str):\n",
    "                prop_dtype = DataType.INT_ARRAY\n",
    "            elif isinstance(value[0], float):\n",
    "                prop_dtype = DataType.NUMBER_ARRAY\n",
    "            elif isinstance(value[0], bool):\n",
    "                prop_dtype = DataType.BOOL_ARRAY\n",
    "            elif isinstance(value[0], dict):\n",
    "                prop_dtype = DataType.OBJECT_ARRAY\n",
    "            elif isinstance(value[0], uuid.UUID):\n",
    "                prop_dtype = DataType.UUID\n",
    "        else:\n",
    "            raise ValueError(f\"Unknown type for {key=} and {value=}\")\n",
    "        properties.append(Property(name=key, data_type=prop_dtype))\n",
    "    return properties"
   ]
  },
  {
   "cell_type": "code",
   "execution_count": 48,
   "metadata": {},
   "outputs": [],
   "source": [
    "class WeaviateRetriever(BaseRetriever):\n",
    "    \n",
    "    def __init__(self, host: str, port: int, grpc_port: int, collection_name: str):\n",
    "        self.collection_name = collection_name\n",
    "        self.host = host\n",
    "        self.port = port\n",
    "        self.grpc_port = grpc_port\n",
    "        self.client = self._get_weaviate_client(host, port, grpc_port)\n",
    "\n",
    "    def _get_weaviate_client(self, host: str, port: int, grpc_port: int):\n",
    "        \"\"\"get weaviate client\"\"\"\n",
    "        client: weaviate.Client = weaviate.connect_to_local(\n",
    "            host=host,\n",
    "            port=port,\n",
    "            grpc_port=grpc_port,\n",
    "        )\n",
    "        if not client.is_ready():\n",
    "            raise Exception(\"weaviate client not ready\")\n",
    "        return client\n",
    "\n",
    "    def _create_weaviate_collection(self, properties: list[Property]):\n",
    "        self.client.collections.create(\n",
    "            self.collection_name,\n",
    "            vectorizer_config=wvc.config.Configure.Vectorizer.none(),\n",
    "            properties=properties,\n",
    "        )\n",
    "        return True\n",
    "\n",
    "    def populate_collection(self, embeddings: list[list[float]] | np.ndarray, data: list[dict], delete_existing: bool = False, verbose: bool = True):\n",
    "        \"\"\"add data to the weaviate collection\"\"\"\n",
    "        if len(embeddings) != len(data):\n",
    "            raise ValueError(\"The number of embeddings must equal the number of data!\")\n",
    "        if delete_existing:\n",
    "            self.client.collections.delete(self.collection_name)\n",
    "        if not self.client.collections.exists(self.collection_name):\n",
    "            properties = weaviate_properties_from_dict(data[0])\n",
    "            self._create_weaviate_collection(properties)\n",
    "        collection = self.client.collections.get(self.collection_name)\n",
    "        with collection.batch.dynamic() as batch:\n",
    "            for i in tqdm.trange(len(embeddings)):\n",
    "                embedding = list(embeddings[i])\n",
    "                datum = data[i]\n",
    "                batch.add_object(\n",
    "                    uuid=generate_uuid5(datum),\n",
    "                    properties=datum,\n",
    "                    vector=embedding\n",
    "                )\n",
    "            if len(collection.batch.failed_objects) > 0:\n",
    "                raise Exception(f\"Failed to import {len(collection.batch.failed_objects)} objects\")\n",
    "        return self.get_collection_info()\n",
    "\n",
    "\n",
    "    def get_collection_info(self):\n",
    "        if not self.client.collections.exists(self.collection_name):\n",
    "            raise ValueError(f\"Collection '{self.collection_name}' does not exist! please do populate_collection() first!\")\n",
    "        collection = self.client.collections.get(self.collection_name)\n",
    "        properties = collection.config.get().to_dict()\n",
    "        count = collection.aggregate.over_all(total_count=True).total_count\n",
    "        return {\n",
    "            \"collection_name\": self.collection_name,\n",
    "            \"properties\": properties,\n",
    "            \"count\": count,\n",
    "        }\n",
    "\n",
    "\n",
    "    def query(self, query_vector: list[float] | np.ndarray, top_k: int = 10) -> list[dict]:\n",
    "        collection = self.client.collections.get(self.collection_name)\n",
    "        response = collection.query.near_vector(\n",
    "            near_vector=query_vector,\n",
    "            limit=top_k,\n",
    "            return_metadata=MetadataQuery(distance=True),\n",
    "        )\n",
    "        results = [\n",
    "            {\n",
    "                \"id\": str(obj.uuid),\n",
    "                \"distance\": float(obj.metadata.distance),\n",
    "                \"data\": dict(obj.properties),\n",
    "            }\n",
    "            for obj in response.objects\n",
    "        ]\n",
    "        return results\n"
   ]
  },
  {
   "cell_type": "code",
   "execution_count": 49,
   "metadata": {},
   "outputs": [],
   "source": [
    "weaviate_host = \"localhost\"\n",
    "weaviate_port = 8081\n",
    "weaviate_gpu_port = 50051\n",
    "\n",
    "aeneid_weaviate_retriever = WeaviateRetriever(\n",
    "    host=weaviate_host,\n",
    "    port=weaviate_port,\n",
    "    grpc_port=weaviate_gpu_port,\n",
    "    collection_name=\"AeneidLabse\"\n",
    ")"
   ]
  },
  {
   "cell_type": "code",
   "execution_count": 50,
   "metadata": {},
   "outputs": [
    {
     "name": "stderr",
     "output_type": "stream",
     "text": [
      "100%|██████████| 1066/1066 [00:00<00:00, 4509.84it/s]\n"
     ]
    }
   ],
   "source": [
    "info = aeneid_weaviate_retriever.populate_collection(embeddings, data, delete_existing=True, verbose=True)"
   ]
  },
  {
   "cell_type": "code",
   "execution_count": 53,
   "metadata": {},
   "outputs": [
    {
     "name": "stdout",
     "output_type": "stream",
     "text": [
      "{\n",
      "  \"id\": \"1ecd05b6-22f0-5a8a-bd06-d3906706d060\",\n",
      "  \"distance\": -2.384185791015625e-07,\n",
      "  \"data\": {\n",
      "    \"text\": \"Before his eyes his goddess mother stood:\",\n",
      "    \"line\": 435\n",
      "  }\n",
      "}\n",
      "{\n",
      "  \"id\": \"138b2937-9715-5573-beca-f2e6e6b36d34\",\n",
      "  \"distance\": 0.38323378562927246,\n",
      "  \"data\": {\n",
      "    \"text\": \"His mother goddess, with her hands divine,\",\n",
      "    \"line\": 827\n",
      "  }\n",
      "}\n",
      "{\n",
      "  \"id\": \"630e9061-18e4-5c36-a93b-5258f9541043\",\n",
      "  \"distance\": 0.47407418489456177,\n",
      "  \"data\": {\n",
      "    \"text\": \"Of her unhappy lord: the spectre stares,\",\n",
      "    \"line\": 488\n",
      "  }\n",
      "}\n",
      "{\n",
      "  \"id\": \"c68e098b-e587-52b7-8302-1dfcec7d2bc4\",\n",
      "  \"distance\": 0.4970189332962036,\n",
      "  \"data\": {\n",
      "    \"text\": \"Her mother Leda\\u2019s present, when she came\",\n",
      "    \"line\": 920\n",
      "  }\n",
      "}\n",
      "{\n",
      "  \"id\": \"9639d4a1-576e-58b9-89dc-c30f7a94a4d1\",\n",
      "  \"distance\": 0.503951370716095,\n",
      "  \"data\": {\n",
      "    \"text\": \"He walks Iulus in his mother\\u2019s sight,\",\n",
      "    \"line\": 968\n",
      "  }\n",
      "}\n"
     ]
    }
   ],
   "source": [
    "weaviate_responses = aeneid_weaviate_retriever.query(query_vector, top_k=5)\n",
    "for d in weaviate_responses:\n",
    "    print(json.dumps(d, indent=2))\n"
   ]
  },
  {
   "cell_type": "code",
   "execution_count": null,
   "metadata": {},
   "outputs": [],
   "source": []
  }
 ],
 "metadata": {
  "kernelspec": {
   "display_name": "text2sql",
   "language": "python",
   "name": "python3"
  },
  "language_info": {
   "codemirror_mode": {
    "name": "ipython",
    "version": 3
   },
   "file_extension": ".py",
   "mimetype": "text/x-python",
   "name": "python",
   "nbconvert_exporter": "python",
   "pygments_lexer": "ipython3",
   "version": "3.12.7"
  }
 },
 "nbformat": 4,
 "nbformat_minor": 2
}
