{
 "cells": [
  {
   "cell_type": "code",
   "execution_count": 1,
   "metadata": {},
   "outputs": [
    {
     "data": {
      "text/plain": [
       "True"
      ]
     },
     "execution_count": 1,
     "metadata": {},
     "output_type": "execute_result"
    }
   ],
   "source": [
    "from dotenv import load_dotenv\n",
    "load_dotenv()"
   ]
  },
  {
   "cell_type": "code",
   "execution_count": 2,
   "metadata": {},
   "outputs": [],
   "source": [
    "import numpy as np\n",
    "from sklearn.metrics.pairwise import cosine_similarity"
   ]
  },
  {
   "cell_type": "code",
   "execution_count": 3,
   "metadata": {},
   "outputs": [],
   "source": [
    "# test bedrock embedding models with boto3"
   ]
  },
  {
   "cell_type": "code",
   "execution_count": 4,
   "metadata": {},
   "outputs": [],
   "source": [
    "import json\n",
    "import boto3"
   ]
  },
  {
   "cell_type": "code",
   "execution_count": 5,
   "metadata": {},
   "outputs": [],
   "source": [
    "def get_bedrock_client(region_name: str, service_name: str = \"bedrock-runtime\") -> boto3.client:\n",
    "    \"\"\"get bedrock client\"\"\"\n",
    "    return boto3.client(\n",
    "        service_name=service_name,\n",
    "        region_name=region_name,\n",
    "    )"
   ]
  },
  {
   "cell_type": "code",
   "execution_count": 6,
   "metadata": {},
   "outputs": [],
   "source": [
    "boto_client = get_bedrock_client(\n",
    "    region_name='us-east-1'\n",
    ")"
   ]
  },
  {
   "cell_type": "code",
   "execution_count": 14,
   "metadata": {},
   "outputs": [],
   "source": [
    "texts = [\n",
    "    \"The Trojans, after a seven years’ voyage, set sail for Italy, but are overtaken by a dreadful storm, which Aeolus raises at the request of Juno.\",\n",
    "    \"트로이아군은 7년간의 항해 끝에 이탈리아로 항해를 떠났지만 주노의 요청으로 무서운 폭풍에 추월당합니다.\",\n",
    "    \"enus complains to Jupiter of her son’s misfortunes. Jupiter comforts her, and sends Mercury to procure him a kind reception among the Carthaginians.\",\n",
    "    \"에누스는 주피터에게 아들의 불행에 대해 불평합니다. 주피터는 그녀를 위로하고 머큐리를 보내 카르타고 인들 사이에서 아들을 친절하게 맞이합니다.\",\n",
    "]"
   ]
  },
  {
   "cell_type": "code",
   "execution_count": 15,
   "metadata": {},
   "outputs": [
    {
     "name": "stdout",
     "output_type": "stream",
     "text": [
      "<class 'list'>\n",
      "[[1.         0.74069583 0.62030095 0.52303496]\n",
      " [0.74069583 1.         0.50378705 0.59600523]\n",
      " [0.62030095 0.50378705 1.         0.73347226]\n",
      " [0.52303496 0.59600523 0.73347226 1.        ]]\n"
     ]
    }
   ],
   "source": [
    "# amazon bedrock cohere\n",
    "\n",
    "# cohere.embed-english-v3, cohere.embed-multilingual-v3\n",
    "model_id = \"cohere.embed-multilingual-v3\"\n",
    "# search_document, search_query, classification, clustering\n",
    "input_type = \"clustering\" \n",
    "# float, int8, uint8, binary, ubinary\n",
    "embedding_type = \"float\"\n",
    "\n",
    "accept = '*/*'\n",
    "content_type = 'application/json'\n",
    "\n",
    "body = json.dumps({\n",
    "    \"texts\": texts,\n",
    "    \"input_type\": input_type,\n",
    "    \"embedding_types\": [embedding_type]}\n",
    ")\n",
    "\n",
    "response = boto_client.invoke_model(\n",
    "    body=body,\n",
    "    modelId=model_id,\n",
    "    accept=accept,\n",
    "    contentType=content_type\n",
    ")\n",
    "\n",
    "response_body = json.loads(response.get('body').read())\n",
    "embeddings_dict: dict = response_body.get('embeddings')\n",
    "embeddings = embeddings_dict.get(embedding_type)\n",
    "print(type(embeddings))\n",
    "print(cosine_similarity(embeddings, embeddings))"
   ]
  },
  {
   "cell_type": "code",
   "execution_count": 10,
   "metadata": {},
   "outputs": [
    {
     "data": {
      "text/plain": [
       "list"
      ]
     },
     "execution_count": 10,
     "metadata": {},
     "output_type": "execute_result"
    }
   ],
   "source": [
    "# amazon bedrock titan v2\n",
    "\n",
    "model_id = \"amazon.titan-embed-text-v2:0\"\n",
    "# 1024, 512, 256 (matryoshka embeddings?)\n",
    "dimensions = 1024\n",
    "# normalize, duh\n",
    "normalize = True\n",
    "# float or binary\n",
    "embedding_type = \"float\"\n",
    "\n",
    "accept = '*/*'\n",
    "content_type = 'application/json'\n",
    "\n",
    "def embed_titan_one(text):\n",
    "    body = json.dumps({\n",
    "        \"inputText\": text,\n",
    "        \"dimensions\": dimensions,\n",
    "        \"normalize\": normalize,\n",
    "        \"embeddingTypes\": [embedding_type]}\n",
    "    )\n",
    "\n",
    "response = boto_client.invoke_model(\n",
    "    body=body,\n",
    "    modelId=model_id,\n",
    "    accept=accept,\n",
    "    contentType=content_type\n",
    ")\n",
    "\n",
    "response_body = json.loads(response.get('body').read())\n",
    "embeddings_dict: dict = response_body.get('embeddings')\n",
    "embeddings = embeddings_dict.get(embedding_type)\n",
    "print(type(embeddings))\n",
    "print(cosine_similarity(embeddings, embeddings))"
   ]
  },
  {
   "cell_type": "code",
   "execution_count": null,
   "metadata": {},
   "outputs": [],
   "source": []
  }
 ],
 "metadata": {
  "kernelspec": {
   "display_name": "text2sql",
   "language": "python",
   "name": "python3"
  },
  "language_info": {
   "codemirror_mode": {
    "name": "ipython",
    "version": 3
   },
   "file_extension": ".py",
   "mimetype": "text/x-python",
   "name": "python",
   "nbconvert_exporter": "python",
   "pygments_lexer": "ipython3",
   "version": "3.12.7"
  }
 },
 "nbformat": 4,
 "nbformat_minor": 2
}
