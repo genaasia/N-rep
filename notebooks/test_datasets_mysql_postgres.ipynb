{
 "cells": [
  {
   "cell_type": "markdown",
   "metadata": {},
   "source": [
    "# test MySQL and Postgres dataset connections\n",
    "\n",
    "first, we've deployed the database instances from the ../databases/docker-compose.yaml file.\n",
    "\n",
    "here, we've deployed them to my local server, and will connect remotely and execute a query."
   ]
  },
  {
   "cell_type": "code",
   "execution_count": 1,
   "metadata": {},
   "outputs": [
    {
     "name": "stdout",
     "output_type": "stream",
     "text": [
      "hello, world!\n"
     ]
    }
   ],
   "source": [
    "import sys\n",
    "sys.path.append(\"../src\")\n",
    "from text2sql import hello\n",
    "print(hello.message)"
   ]
  },
  {
   "cell_type": "code",
   "execution_count": 2,
   "metadata": {},
   "outputs": [
    {
     "data": {
      "text/plain": [
       "True"
      ]
     },
     "execution_count": 2,
     "metadata": {},
     "output_type": "execute_result"
    }
   ],
   "source": [
    "import os\n",
    "\n",
    "from dotenv import load_dotenv\n",
    "\n",
    "from text2sql.data import MysqlDataset, PostgresDataset\n",
    "\n",
    "load_dotenv()"
   ]
  },
  {
   "cell_type": "markdown",
   "metadata": {},
   "source": [
    "## test MySQL\n",
    "\n",
    "the dummy databases are \"washswat_en\" and \"washswat_ko\""
   ]
  },
  {
   "cell_type": "code",
   "execution_count": 3,
   "metadata": {},
   "outputs": [],
   "source": [
    "mysql_dataset = MysqlDataset(\n",
    "    \"jennifer.dereks.house\",\n",
    "    3306,\n",
    "    \"root\",\n",
    "    os.getenv(\"MYSQL_ROOT_PASSWORD\"),\n",
    ")"
   ]
  },
  {
   "cell_type": "code",
   "execution_count": 4,
   "metadata": {},
   "outputs": [
    {
     "name": "stdout",
     "output_type": "stream",
     "text": [
      "['information_schema', 'mysql', 'performance_schema', 'sys', 'washswat_en', 'washswat_ko']\n"
     ]
    }
   ],
   "source": [
    "# for mysql, this gets all databases immediately\n",
    "print(mysql_dataset.databases)"
   ]
  },
  {
   "cell_type": "code",
   "execution_count": 5,
   "metadata": {},
   "outputs": [
    {
     "name": "stdout",
     "output_type": "stream",
     "text": [
      "table 'item' with columns: item_id (int) , order_id (varchar(80)) , barcode (varchar(100)) , name (varchar(80)) , status (varchar(80)) , price (bigint) , option (varchar(80)) , shop (varchar(80))\n",
      "table 'item_price' with columns: item_price_id (bigint) , name (varchar(80)) , category (varchar(80)) , price_basic (bigint) , price_premium (bigint) , description (varchar(1000))\n",
      "table 'order_list' with columns: order_id (varchar(80)) , user_id (bigint) , created_at (timestamp(6)) , address (varchar(256)) , road_address (varchar(256)) , post_code (varchar(256)) , total_price (bigint) , status (varchar(80)) , expected_pickup_at (timestamp(6)) , expected_delivery_at (timestamp(6)) , pickup_complete_at (timestamp(6)) , delivery_complete_at (timestamp(6))\n",
      "\n",
      "Relations:\n",
      "item.order_id -> order_list.order_id\n"
     ]
    }
   ],
   "source": [
    "# get schema description\n",
    "schema_text = mysql_dataset.describe_database_schema(\"washswat_en\", mode=\"basic_types_relations\")\n",
    "print(schema_text)"
   ]
  },
  {
   "cell_type": "code",
   "execution_count": 6,
   "metadata": {},
   "outputs": [
    {
     "data": {
      "text/plain": [
       "[{'status': 'compensationOver'},\n",
       " {'status': 'complete'},\n",
       " {'status': 'inOutboundStorage'},\n",
       " {'status': 'inspectionComplete'},\n",
       " {'status': 'issueItem'},\n",
       " {'status': 'mptLoaded'},\n",
       " {'status': 'mptScan'},\n",
       " {'status': 'needConfirm'},\n",
       " {'status': 'ospartner'},\n",
       " {'status': 'ospartnerDeparture'},\n",
       " {'status': 'ospartnerReturn'},\n",
       " {'status': 'outboundStorageDeparture'},\n",
       " {'status': 'packing'},\n",
       " {'status': 'postProcessReLaundry'},\n",
       " {'status': 'prepareOutboundStorageDeparture'},\n",
       " {'status': 'pricing'},\n",
       " {'status': 'recyclingComplete'},\n",
       " {'status': 'reLaundry'},\n",
       " {'status': 'repairNeeded'},\n",
       " {'status': 'sorting'},\n",
       " {'status': 'tagging'},\n",
       " {'status': 'washingComplete'}]"
      ]
     },
     "execution_count": 6,
     "metadata": {},
     "output_type": "execute_result"
    }
   ],
   "source": [
    "# run a query on a database\n",
    "mysql_dataset.query_database(\"washswat_ko\", \"SELECT DISTINCT status FROM item;\")"
   ]
  },
  {
   "cell_type": "markdown",
   "metadata": {},
   "source": [
    "## test Postgres\n",
    "\n",
    "should only have \"genapostgre\""
   ]
  },
  {
   "cell_type": "code",
   "execution_count": 7,
   "metadata": {},
   "outputs": [],
   "source": [
    "postgres_dataset = PostgresDataset(\n",
    "    \"jennifer.dereks.house\",\n",
    "    5432,\n",
    "    \"genapostgre\",\n",
    "    os.getenv(\"POSTGRES_PASSWORD\"),\n",
    ")"
   ]
  },
  {
   "cell_type": "code",
   "execution_count": 8,
   "metadata": {},
   "outputs": [
    {
     "name": "stdout",
     "output_type": "stream",
     "text": [
      "table 'email' with columns: id (uuid) , created_at (timestamp without time zone) , updated_at (timestamp without time zone) , deleted_at (timestamp without time zone) , metadata (jsonb) , to (ARRAY) , cc (ARRAY) , bcc (ARRAY) , subject (character varying) , language (character varying) , body (text) , is_opened (boolean) , first_opened_at (timestamp without time zone) , last_opened_at (timestamp without time zone) , entity_type (character varying) , entity_id (uuid) , tenant_id (uuid) , creator_id (uuid) , modifier_id (uuid)\n",
      "table 'api_key' with columns: id (uuid) , created_at (timestamp without time zone) , updated_at (timestamp without time zone) , deleted_at (timestamp without time zone) , name (character varying) , value (character varying) , tenant_id (uuid) , user_id (uuid) , metadata (jsonb)\n",
      "table 'business_registration' with columns: id (uuid) , created_at (timestamp without time zone) , updated_at (timestamp without time zone) , deleted_at (timestamp without time zone) , registration_number (character varying) , company_name (character varying) , representative_name (character varying) , date_of_issuance (timestamp without time zone) , date_of_commencement (timestamp without time zone) , business_type (character varying) , business_item (character varying) , email (character varying) , address (character varying) , tenant_id (uuid) , document_id (uuid) , business_registration_type (text) , metadata (jsonb)\n"
     ]
    }
   ],
   "source": [
    "# get schema description\n",
    "schema_text = postgres_dataset.describe_database_schema(\"genapostgre\", mode=\"basic_types_relations\")\n",
    "print(\"\\n\".join(schema_text.split(\"\\n\")[:3]))"
   ]
  },
  {
   "cell_type": "code",
   "execution_count": 9,
   "metadata": {},
   "outputs": [
    {
     "data": {
      "text/plain": [
       "[{'count': 10}]"
      ]
     },
     "execution_count": 9,
     "metadata": {},
     "output_type": "execute_result"
    }
   ],
   "source": [
    "# run a query on a database\n",
    "postgres_dataset.query_database(\"genapostgre\", \"SELECT COUNT(DISTINCT bank) FROM bank_account;\")"
   ]
  },
  {
   "cell_type": "code",
   "execution_count": null,
   "metadata": {},
   "outputs": [],
   "source": []
  }
 ],
 "metadata": {
  "kernelspec": {
   "display_name": "text2sql",
   "language": "python",
   "name": "python3"
  },
  "language_info": {
   "codemirror_mode": {
    "name": "ipython",
    "version": 3
   },
   "file_extension": ".py",
   "mimetype": "text/x-python",
   "name": "python",
   "nbconvert_exporter": "python",
   "pygments_lexer": "ipython3",
   "version": "3.12.7"
  }
 },
 "nbformat": 4,
 "nbformat_minor": 2
}
