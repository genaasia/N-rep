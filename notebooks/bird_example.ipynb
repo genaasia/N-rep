{
 "cells": [
  {
   "cell_type": "markdown",
   "metadata": {},
   "source": [
    "# example of BIRD setup and inference (WIP, no class-based inference!)"
   ]
  },
  {
   "cell_type": "code",
   "execution_count": 1,
   "metadata": {},
   "outputs": [
    {
     "name": "stdout",
     "output_type": "stream",
     "text": [
      "hello, world!\n"
     ]
    }
   ],
   "source": [
    "import sys\n",
    "sys.path.append(\"../src\")\n",
    "from text2sql import hello\n",
    "print(hello.message)"
   ]
  },
  {
   "cell_type": "code",
   "execution_count": 2,
   "metadata": {},
   "outputs": [],
   "source": [
    "import json\n",
    "import os\n",
    "\n",
    "import numpy as np"
   ]
  },
  {
   "cell_type": "markdown",
   "metadata": {},
   "source": [
    "## load data"
   ]
  },
  {
   "cell_type": "code",
   "execution_count": 3,
   "metadata": {},
   "outputs": [],
   "source": [
    "bird_dataset_path = \"/home/derek/PythonProjects/gena/data/text2sql_datasets/bird\"\n",
    "# training data and databases\n",
    "bird_train_database_path = os.path.join(bird_dataset_path, \"train\", \"train_databases\")\n",
    "bird_train_json_path = os.path.join(bird_dataset_path, \"train\", \"train.json\")\n",
    "# dev data and databases\n",
    "bird_dev_database_path = os.path.join(bird_dataset_path, \"dev_20240627\", \"dev_databases\")\n",
    "bird_dev_json_path = os.path.join(bird_dataset_path, \"dev_20240627\", \"dev.json\")"
   ]
  },
  {
   "cell_type": "markdown",
   "metadata": {},
   "source": [
    "### create dataset loaders for sqlite files"
   ]
  },
  {
   "cell_type": "code",
   "execution_count": 4,
   "metadata": {},
   "outputs": [],
   "source": [
    "from text2sql.data import SqliteDataset"
   ]
  },
  {
   "cell_type": "code",
   "execution_count": 5,
   "metadata": {},
   "outputs": [
    {
     "name": "stdout",
     "output_type": "stream",
     "text": [
      "loaded training dataset containing 69 databases\n",
      "loaded dev dataset containing 11 databases\n"
     ]
    }
   ],
   "source": [
    "# create dataset loaders\n",
    "train_dataset = SqliteDataset(bird_train_database_path)\n",
    "print(f\"loaded training dataset containing {len(train_dataset.get_databases())} databases\")\n",
    "dev_dataset = SqliteDataset(bird_dev_database_path)\n",
    "print(f\"loaded dev dataset containing {len(dev_dataset.get_databases())} databases\")"
   ]
  },
  {
   "cell_type": "code",
   "execution_count": 6,
   "metadata": {},
   "outputs": [
    {
     "data": {
      "text/plain": [
       "[{'name': 'customers'},\n",
       " {'name': 'geolocation'},\n",
       " {'name': 'location'},\n",
       " {'name': 'rootbeerbrand'},\n",
       " {'name': 'rootbeer'},\n",
       " {'name': 'rootbeerreview'},\n",
       " {'name': 'transaction'}]"
      ]
     },
     "execution_count": 6,
     "metadata": {},
     "output_type": "execute_result"
    }
   ],
   "source": [
    "# demonstrate querying a database - query to get list of tables\n",
    "train_dataset.query_database(\"beer_factory\", \"SELECT name FROM sqlite_master WHERE type='table';\")"
   ]
  },
  {
   "cell_type": "markdown",
   "metadata": {},
   "source": [
    "### load json data"
   ]
  },
  {
   "cell_type": "code",
   "execution_count": 7,
   "metadata": {},
   "outputs": [
    {
     "name": "stdout",
     "output_type": "stream",
     "text": [
      "loaded 9428 training examples from /home/derek/PythonProjects/gena/data/text2sql_datasets/bird/train/train.json\n",
      "each sample includes keys: ['db_id', 'question', 'evidence', 'SQL']\n"
     ]
    }
   ],
   "source": [
    "# load train data\n",
    "with open(bird_train_json_path, \"r\") as f:\n",
    "    bird_train_json = json.load(f)\n",
    "print(f\"loaded {len(bird_train_json)} training examples from {bird_train_json_path}\")\n",
    "print(f\"each sample includes keys: {list(bird_train_json[0].keys())}\")"
   ]
  },
  {
   "cell_type": "code",
   "execution_count": 8,
   "metadata": {},
   "outputs": [
    {
     "data": {
      "text/plain": [
       "{'db_id': 'movie_platform',\n",
       " 'question': 'Name movie titles released in year 1945. Sort the listing by the descending order of movie popularity.',\n",
       " 'evidence': 'released in the year 1945 refers to movie_release_year = 1945;',\n",
       " 'SQL': 'SELECT movie_title FROM movies WHERE movie_release_year = 1945 ORDER BY movie_popularity DESC LIMIT 1'}"
      ]
     },
     "execution_count": 8,
     "metadata": {},
     "output_type": "execute_result"
    }
   ],
   "source": [
    "bird_train_json[0]"
   ]
  },
  {
   "cell_type": "code",
   "execution_count": 9,
   "metadata": {},
   "outputs": [
    {
     "name": "stdout",
     "output_type": "stream",
     "text": [
      "loaded 1534 dev examples from /home/derek/PythonProjects/gena/data/text2sql_datasets/bird/dev_20240627/dev.json\n",
      "each sample includes keys: ['question_id', 'db_id', 'question', 'evidence', 'SQL', 'difficulty']\n"
     ]
    }
   ],
   "source": [
    "with open(bird_dev_json_path, \"r\") as f:\n",
    "    bird_dev_json = json.load(f)\n",
    "print(f\"loaded {len(bird_dev_json)} dev examples from {bird_dev_json_path}\")\n",
    "print(f\"each sample includes keys: {list(bird_dev_json[0].keys())}\")"
   ]
  },
  {
   "cell_type": "code",
   "execution_count": 10,
   "metadata": {},
   "outputs": [
    {
     "data": {
      "text/plain": [
       "{'question_id': 0,\n",
       " 'db_id': 'california_schools',\n",
       " 'question': 'What is the highest eligible free rate for K-12 students in the schools in Alameda County?',\n",
       " 'evidence': 'Eligible free rate for K-12 = `Free Meal Count (K-12)` / `Enrollment (K-12)`',\n",
       " 'SQL': \"SELECT `Free Meal Count (K-12)` / `Enrollment (K-12)` FROM frpm WHERE `County Name` = 'Alameda' ORDER BY (CAST(`Free Meal Count (K-12)` AS REAL) / `Enrollment (K-12)`) DESC LIMIT 1\",\n",
       " 'difficulty': 'simple'}"
      ]
     },
     "execution_count": 10,
     "metadata": {},
     "output_type": "execute_result"
    }
   ],
   "source": [
    "bird_dev_json[0]"
   ]
  },
  {
   "cell_type": "markdown",
   "metadata": {},
   "source": [
    "## embed the training data for retrieval"
   ]
  },
  {
   "cell_type": "code",
   "execution_count": 11,
   "metadata": {},
   "outputs": [
    {
     "name": "stderr",
     "output_type": "stream",
     "text": [
      "/home/derek/miniconda3/envs/text2sql/lib/python3.12/site-packages/sentence_transformers/cross_encoder/CrossEncoder.py:13: TqdmWarning: IProgress not found. Please update jupyter and ipywidgets. See https://ipywidgets.readthedocs.io/en/stable/user_install.html\n",
      "  from tqdm.autonotebook import tqdm, trange\n"
     ]
    }
   ],
   "source": [
    "from text2sql.engine.embeddings import SentenceTransformerEmbedder"
   ]
  },
  {
   "cell_type": "code",
   "execution_count": 12,
   "metadata": {},
   "outputs": [
    {
     "name": "stderr",
     "output_type": "stream",
     "text": [
      "/home/derek/miniconda3/envs/text2sql/lib/python3.12/site-packages/transformers/tokenization_utils_base.py:1601: FutureWarning: `clean_up_tokenization_spaces` was not set. It will be set to `True` by default. This behavior will be depracted in transformers v4.45, and will be then set to `False` by default. For more details check this issue: https://github.com/huggingface/transformers/issues/31884\n",
      "  warnings.warn(\n"
     ]
    }
   ],
   "source": [
    "# create sentence-transformers embedder with LaBSE model\n",
    "embedder = SentenceTransformerEmbedder(\n",
    "    model_path=\"sentence-transformers/LaBSE\"\n",
    ")"
   ]
  },
  {
   "cell_type": "code",
   "execution_count": 13,
   "metadata": {},
   "outputs": [
    {
     "name": "stdout",
     "output_type": "stream",
     "text": [
      "loading train embeddings from existing file 'bird_query_labse_embeddings.npy'\n"
     ]
    }
   ],
   "source": [
    "# embed queries and save embeddings to temp file \n",
    "train_queries = [example[\"question\"] for example in bird_train_json]\n",
    "train_embeddings_file = \"bird_query_labse_embeddings.npy\"\n",
    "if not os.path.isfile(train_embeddings_file):\n",
    "    print(f\"generating train embeddings and saving to '{train_embeddings_file}'\")\n",
    "    train_embeddings = embedder.embed(train_queries, verbose=True)\n",
    "    np.save(\"bird_query_labse_embeddings.npy\", train_embeddings)\n",
    "else:\n",
    "    print(f\"loading train embeddings from existing file '{train_embeddings_file}'\")\n",
    "    train_embeddings = np.load(train_embeddings_file)"
   ]
  },
  {
   "cell_type": "markdown",
   "metadata": {},
   "source": [
    "## create local retriever\n",
    "\n",
    "we can use weaviate as well, but for ease of setup, use local"
   ]
  },
  {
   "cell_type": "code",
   "execution_count": 14,
   "metadata": {},
   "outputs": [],
   "source": [
    "from text2sql.engine.retrieval import LocalRetriever"
   ]
  },
  {
   "cell_type": "code",
   "execution_count": 15,
   "metadata": {},
   "outputs": [],
   "source": [
    "local_retriever = LocalRetriever(embeddings=train_embeddings, data=bird_train_json)"
   ]
  },
  {
   "cell_type": "code",
   "execution_count": 16,
   "metadata": {},
   "outputs": [
    {
     "name": "stdout",
     "output_type": "stream",
     "text": [
      "[\n",
      "  {\n",
      "    \"id\": 0,\n",
      "    \"distance\": 0.0,\n",
      "    \"data\": {\n",
      "      \"db_id\": \"movie_platform\",\n",
      "      \"question\": \"Name movie titles released in year 1945. Sort the listing by the descending order of movie popularity.\",\n",
      "      \"evidence\": \"released in the year 1945 refers to movie_release_year = 1945;\",\n",
      "      \"SQL\": \"SELECT movie_title FROM movies WHERE movie_release_year = 1945 ORDER BY movie_popularity DESC LIMIT 1\"\n",
      "    }\n",
      "  },\n",
      "  {\n",
      "    \"id\": 537,\n",
      "    \"distance\": 0.2576185464859009,\n",
      "    \"data\": {\n",
      "      \"db_id\": \"movies_4\",\n",
      "      \"question\": \"List the movies released in 1945.\",\n",
      "      \"evidence\": \"List the movies refers to title; released in 1945 refers to release_date LIKE '1945%'\",\n",
      "      \"SQL\": \"SELECT title FROM movie WHERE CAST(STRFTIME('%Y', release_date) AS INT) = 1945\"\n",
      "    }\n",
      "  },\n",
      "  {\n",
      "    \"id\": 4709,\n",
      "    \"distance\": 0.40609586238861084,\n",
      "    \"data\": {\n",
      "      \"db_id\": \"disney\",\n",
      "      \"question\": \"List the titles of movies directed by Jack Kinney that were released before 1947.\",\n",
      "      \"evidence\": \"Jack Kinney refers to director = 'Jack Kinney'; released before 1947 refers to substr(release_date, length(release_date) - 1, length(release_date)) < '47';\",\n",
      "      \"SQL\": \"SELECT T1.movie_title FROM characters AS T1 INNER JOIN director AS T2 ON T1.movie_title = T2.name WHERE T2.director = 'Jack Kinney' AND SUBSTR(T1.release_date, LENGTH(T1.release_date) - 1, LENGTH(T1.release_date)) < '47'\"\n",
      "    }\n",
      "  }\n",
      "]\n"
     ]
    }
   ],
   "source": [
    "# search an (existing) query as a sanity test; top result should be the query itself\n",
    "search_query = \"Name movie titles released in year 1945. Sort the listing by the descending order of movie popularity.\"\n",
    "search_results = local_retriever.query(embedder.embed(search_query), top_k=3)\n",
    "print(json.dumps(search_results, indent=2))"
   ]
  },
  {
   "cell_type": "markdown",
   "metadata": {},
   "source": [
    "## create prompt formatter and LLM generator"
   ]
  },
  {
   "cell_type": "code",
   "execution_count": 50,
   "metadata": {},
   "outputs": [],
   "source": [
    "from dotenv import load_dotenv\n",
    "load_dotenv()\n",
    "from text2sql.engine.prompts import BasicFewShotPromptFormatter\n",
    "from text2sql.engine.generation import AzureGenerator, BedrockGenerator"
   ]
  },
  {
   "cell_type": "code",
   "execution_count": 51,
   "metadata": {},
   "outputs": [],
   "source": [
    "formatter = BasicFewShotPromptFormatter()"
   ]
  },
  {
   "cell_type": "code",
   "execution_count": 52,
   "metadata": {},
   "outputs": [
    {
     "name": "stdout",
     "output_type": "stream",
     "text": [
      "using 'gena-4o'\n"
     ]
    }
   ],
   "source": [
    "# model = \"meta.llama3-1-8b-instruct-v1:0\"\n",
    "# generator = BedrockGenerator(\n",
    "#     region_name=\"us-west-2\",\n",
    "#     model=model,\n",
    "# )\n",
    "\n",
    "model = os.environ.get(\"AZURE_OPENAI_GEN_MODEL\")\n",
    "generator = AzureGenerator(\n",
    "    api_key=os.environ.get(\"AZURE_OPENAI_API_KEY\"),\n",
    "    azure_endpoint=os.environ.get(\"AZURE_OPENAI_API_ENDPOINT\"),\n",
    "    api_version=os.environ.get(\"AZURE_OPENAI_API_VERSION\"),\n",
    "    model=model,\n",
    ")\n",
    "\n",
    "print(f\"using '{model}'\")"
   ]
  },
  {
   "cell_type": "markdown",
   "metadata": {},
   "source": [
    "## predict"
   ]
  },
  {
   "cell_type": "code",
   "execution_count": 65,
   "metadata": {},
   "outputs": [
    {
     "name": "stdout",
     "output_type": "stream",
     "text": [
      "movie_platform\n",
      "Name movie titles released in year 1945. Sort the listing by the descending order of movie popularity.\n",
      "SELECT movie_title FROM movies WHERE movie_release_year = 1945 ORDER BY movie_popularity DESC LIMIT 1\n"
     ]
    }
   ],
   "source": [
    "# load one training sample\n",
    "training_sample = bird_train_json[0]\n",
    "sample_db_name = training_sample[\"db_id\"]\n",
    "sample_query = training_sample[\"question\"]\n",
    "sample_sql = training_sample[\"SQL\"]\n",
    "print(sample_db_name)\n",
    "print(sample_query)\n",
    "print(sample_sql)"
   ]
  },
  {
   "cell_type": "code",
   "execution_count": 66,
   "metadata": {},
   "outputs": [],
   "source": [
    "# create chat messages for LLM input\n",
    "system_message = \"Write sqlite SQL query only and with no explanation. Some example questions and corresponding SQL queries are provided based on similar problems.\"\n",
    "schema_description = train_dataset.describe_database_schema(sample_db_name, mode=\"datagrip\")  # mode=\"basic_types_relations\")\n",
    "few_shot_examples = local_retriever.query(embedder.embed(sample_query), top_k=4)[1:]  # it's training so remove the real query\n",
    "# create chat messages\n",
    "messages = formatter.generate_messages(\n",
    "    system_message=system_message,\n",
    "    schema_description=schema_description,\n",
    "    query=sample_query,\n",
    "    few_shot_examples=few_shot_examples,\n",
    "    few_shot_query_key=\"question\",\n",
    "    few_shot_target_key=\"SQL\",\n",
    ")"
   ]
  },
  {
   "cell_type": "code",
   "execution_count": 67,
   "metadata": {},
   "outputs": [
    {
     "data": {
      "text/plain": [
       "[{'role': 'system',\n",
       "  'content': 'Write sqlite SQL query only and with no explanation. Some example questions and corresponding SQL queries are provided based on similar problems.'},\n",
       " {'role': 'user',\n",
       "  'content': 'similar example query: List the movies released in 1945.'},\n",
       " {'role': 'assistant',\n",
       "  'content': \"SELECT title FROM movie WHERE CAST(STRFTIME('%Y', release_date) AS INT) = 1945\"},\n",
       " {'role': 'user',\n",
       "  'content': 'similar example query: List the titles of movies directed by Jack Kinney that were released before 1947.'},\n",
       " {'role': 'assistant',\n",
       "  'content': \"SELECT T1.movie_title FROM characters AS T1 INNER JOIN director AS T2 ON T1.movie_title = T2.name WHERE T2.director = 'Jack Kinney' AND SUBSTR(T1.release_date, LENGTH(T1.release_date) - 1, LENGTH(T1.release_date)) < '47'\"},\n",
       " {'role': 'user',\n",
       "  'content': 'similar example query: Provide the list of the longest movies. Arrange these titles in alphabetical order.'},\n",
       " {'role': 'assistant',\n",
       "  'content': 'SELECT title FROM film WHERE length = ( SELECT MAX(length) FROM film )'},\n",
       " {'role': 'user',\n",
       "  'content': 'target schema:\\nmovie_platform schema:\\n    + tables\\n        lists: table\\n            + columns\\n                user_id: INTEGER\\n                list_id: INTEGER\\n                list_title: TEXT\\n                list_movie_number: INTEGER\\n                list_update_timestamp_utc: TEXT\\n                list_creation_timestamp_utc: TEXT\\n                list_followers: INTEGER\\n                list_url: TEXT\\n                list_comments: INTEGER\\n                list_description: TEXT\\n                list_cover_image_url: TEXT\\n                list_first_image_url: TEXT\\n                list_second_image_url: TEXT\\n                list_third_image_url: TEXT\\n            + keys\\n                lists_pk: PK (list_id)\\n            + foreign-keys\\n                lists_user_id_fk: foreign key (user_id) -> lists_users[.lists_users_pk] (user_id)\\n\\n        movies: table\\n            + columns\\n                movie_id: INTEGER\\n                movie_title: TEXT\\n                movie_release_year: INTEGER\\n                movie_url: TEXT\\n                movie_title_language: TEXT\\n                movie_popularity: INTEGER\\n                movie_image_url: TEXT\\n                director_id: TEXT\\n                director_name: TEXT\\n                director_url: TEXT\\n            + keys\\n                movies_pk: PK (movie_id)\\n\\n        ratings_users: table\\n            + columns\\n                user_id: INTEGER\\n                rating_date_utc: TEXT\\n                user_trialist: INTEGER\\n                user_subscriber: INTEGER\\n                user_avatar_image_url: TEXT\\n                user_cover_image_url: TEXT\\n                user_eligible_for_trial: INTEGER\\n                user_has_payment_method: INTEGER\\n            + foreign-keys\\n                ratings_users_user_id_fk: foreign key (user_id) -> lists_users[.lists_users_pk] (user_id)\\n\\n        lists_users: table\\n            + columns\\n                user_id: INTEGER\\n                list_id: INTEGER\\n                list_update_date_utc: TEXT\\n                list_creation_date_utc: TEXT\\n                user_trialist: INTEGER\\n                user_subscriber: INTEGER\\n                user_avatar_image_url: TEXT\\n                user_cover_image_url: TEXT\\n                user_eligible_for_trial: TEXT\\n                user_has_payment_method: TEXT\\n            + keys\\n                lists_users_pk: PK (list_id)\\n            + foreign-keys\\n                lists_users_user_id_fk: foreign key (user_id) -> lists[.lists_pk] (user_id)\\n                lists_users_list_id_fk: foreign key (list_id) -> lists[.lists_pk] (list_id)\\n\\n        ratings: table\\n            + columns\\n                movie_id: INTEGER\\n                rating_id: INTEGER\\n                rating_url: TEXT\\n                rating_score: INTEGER\\n                rating_timestamp_utc: TEXT\\n                critic: TEXT\\n                critic_likes: INTEGER\\n                critic_comments: INTEGER\\n                user_id: INTEGER\\n                user_trialist: INTEGER\\n                user_subscriber: INTEGER\\n                user_eligible_for_trial: INTEGER\\n                user_has_payment_method: INTEGER\\n            + foreign-keys\\n                ratings_user_id_fk: foreign key (user_id) -> lists_users[.lists_users_pk] (user_id)\\n                ratings_rating_id_fk: foreign key (rating_id) -> ratings[.ratings_pk] (rating_id)\\n                ratings_movie_id_fk: foreign key (movie_id) -> movies[.movies_pk] (movie_id)\\n\\n\\nquery: Name movie titles released in year 1945. Sort the listing by the descending order of movie popularity.'}]"
      ]
     },
     "execution_count": 67,
     "metadata": {},
     "output_type": "execute_result"
    }
   ],
   "source": [
    "messages"
   ]
  },
  {
   "cell_type": "code",
   "execution_count": 68,
   "metadata": {},
   "outputs": [
    {
     "name": "stdout",
     "output_type": "stream",
     "text": [
      "target schema:\n",
      "movie_platform schema:\n",
      "    + tables\n",
      "        lists: table\n",
      "            + columns\n",
      "                user_id: INTEGER\n",
      "                list_id: INTEGER\n",
      "                list_title: TEXT\n",
      "                list_movie_number: INTEGER\n",
      "                list_update_timestamp_utc: TEXT\n",
      "                list_creation_timestamp_utc: TEXT\n",
      "                list_followers: INTEGER\n",
      "                list_url: TEXT\n",
      "                list_comments: INTEGER\n",
      "                list_description: TEXT\n",
      "                list_cover_image_url: TEXT\n",
      "                list_first_image_url: TEXT\n",
      "                list_second_image_url: TEXT\n",
      "                list_third_image_url: TEXT\n",
      "            + keys\n",
      "                lists_pk: PK (list_id)\n",
      "            + foreign-keys\n",
      "                lists_user_id_fk: foreign key (user_id) -> lists_users[.lists_users_pk] (user_id)\n",
      "\n",
      "        movies: table\n",
      "            + columns\n",
      "                movie_id: INTEGER\n",
      "                movie_title: TEXT\n",
      "                movie_release_year: INTEGER\n",
      "                movie_url: TEXT\n",
      "                movie_title_language: TEXT\n",
      "                movie_popularity: INTEGER\n",
      "                movie_image_url: TEXT\n",
      "                director_id: TEXT\n",
      "                director_name: TEXT\n",
      "                director_url: TEXT\n",
      "            + keys\n",
      "                movies_pk: PK (movie_id)\n",
      "\n",
      "        ratings_users: table\n",
      "            + columns\n",
      "                user_id: INTEGER\n",
      "                rating_date_utc: TEXT\n",
      "                user_trialist: INTEGER\n",
      "                user_subscriber: INTEGER\n",
      "                user_avatar_image_url: TEXT\n",
      "                user_cover_image_url: TEXT\n",
      "                user_eligible_for_trial: INTEGER\n",
      "                user_has_payment_method: INTEGER\n",
      "            + foreign-keys\n",
      "                ratings_users_user_id_fk: foreign key (user_id) -> lists_users[.lists_users_pk] (user_id)\n",
      "\n",
      "        lists_users: table\n",
      "            + columns\n",
      "                user_id: INTEGER\n",
      "                list_id: INTEGER\n",
      "                list_update_date_utc: TEXT\n",
      "                list_creation_date_utc: TEXT\n",
      "                user_trialist: INTEGER\n",
      "                user_subscriber: INTEGER\n",
      "                user_avatar_image_url: TEXT\n",
      "                user_cover_image_url: TEXT\n",
      "                user_eligible_for_trial: TEXT\n",
      "                user_has_payment_method: TEXT\n",
      "            + keys\n",
      "                lists_users_pk: PK (list_id)\n",
      "            + foreign-keys\n",
      "                lists_users_user_id_fk: foreign key (user_id) -> lists[.lists_pk] (user_id)\n",
      "                lists_users_list_id_fk: foreign key (list_id) -> lists[.lists_pk] (list_id)\n",
      "\n",
      "        ratings: table\n",
      "            + columns\n",
      "                movie_id: INTEGER\n",
      "                rating_id: INTEGER\n",
      "                rating_url: TEXT\n",
      "                rating_score: INTEGER\n",
      "                rating_timestamp_utc: TEXT\n",
      "                critic: TEXT\n",
      "                critic_likes: INTEGER\n",
      "                critic_comments: INTEGER\n",
      "                user_id: INTEGER\n",
      "                user_trialist: INTEGER\n",
      "                user_subscriber: INTEGER\n",
      "                user_eligible_for_trial: INTEGER\n",
      "                user_has_payment_method: INTEGER\n",
      "            + foreign-keys\n",
      "                ratings_user_id_fk: foreign key (user_id) -> lists_users[.lists_users_pk] (user_id)\n",
      "                ratings_rating_id_fk: foreign key (rating_id) -> ratings[.ratings_pk] (rating_id)\n",
      "                ratings_movie_id_fk: foreign key (movie_id) -> movies[.movies_pk] (movie_id)\n",
      "\n",
      "\n",
      "query: Name movie titles released in year 1945. Sort the listing by the descending order of movie popularity.\n"
     ]
    }
   ],
   "source": [
    "# this is the final user prompt\n",
    "print(messages[-1][\"content\"])"
   ]
  },
  {
   "cell_type": "code",
   "execution_count": 69,
   "metadata": {},
   "outputs": [
    {
     "name": "stdout",
     "output_type": "stream",
     "text": [
      "target:\n",
      "```\n",
      "SELECT movie_title FROM movies WHERE movie_release_year = 1945 ORDER BY movie_popularity DESC LIMIT 1\n",
      "```\n",
      "\n",
      "\n",
      "prediction:\n",
      "```\n",
      "SELECT movie_title \n",
      "FROM movies \n",
      "WHERE movie_release_year = 1945 \n",
      "ORDER BY movie_popularity DESC;\n",
      "```\n",
      "\n",
      "\n"
     ]
    }
   ],
   "source": [
    "# inference\n",
    "prediction = generator.generate(messages).strip(\"\\n\")  # need better cleaning later\n",
    "print(f\"target:\\n```\\n{sample_sql}\\n```\\n\\n\")\n",
    "print(f\"prediction:\\n```\\n{prediction}\\n```\\n\\n\")"
   ]
  },
  {
   "cell_type": "markdown",
   "metadata": {},
   "source": [
    "### verify\n",
    "\n",
    "we can add verification later, for now, we can test directly"
   ]
  },
  {
   "cell_type": "code",
   "execution_count": 70,
   "metadata": {},
   "outputs": [
    {
     "name": "stdout",
     "output_type": "stream",
     "text": [
      "[{'movie_title': 'Brief Encounter'}, {'movie_title': 'Children of Paradise'}, {'movie_title': 'Rome, Open City'}]\n"
     ]
    }
   ],
   "source": [
    "results = train_dataset.query_database(sample_db_name, prediction.strip(\"\\n\"))\n",
    "print(results[:3])"
   ]
  },
  {
   "cell_type": "markdown",
   "metadata": {},
   "source": [
    "## predict (dev set example)"
   ]
  },
  {
   "cell_type": "code",
   "execution_count": 71,
   "metadata": {},
   "outputs": [
    {
     "name": "stdout",
     "output_type": "stream",
     "text": [
      "california_schools\n",
      "For the school with the highest average score in Reading in the SAT test, what is its FRPM count for students aged 5-17?\n",
      "SELECT T2.`FRPM Count (Ages 5-17)` FROM satscores AS T1 INNER JOIN frpm AS T2 ON T1.cds = T2.CDSCode ORDER BY T1.AvgScrRead DESC LIMIT 1\n"
     ]
    }
   ],
   "source": [
    "# load one training sample\n",
    "dev_sample = bird_dev_json[10]\n",
    "sample_db_name = dev_sample[\"db_id\"]\n",
    "sample_query = dev_sample[\"question\"]\n",
    "sample_sql = dev_sample[\"SQL\"]\n",
    "print(sample_db_name)\n",
    "print(sample_query)\n",
    "print(sample_sql)"
   ]
  },
  {
   "cell_type": "code",
   "execution_count": 72,
   "metadata": {},
   "outputs": [],
   "source": [
    "# create chat messages for LLM input\n",
    "system_message = \"Write sqlite SQL query only and with no explanation. Some example questions and corresponding SQL queries are provided based on similar problems.\"\n",
    "schema_description = dev_dataset.describe_database_schema(sample_db_name, mode=\"datagrip\")\n",
    "few_shot_examples = local_retriever.query(embedder.embed(sample_query), top_k=3)\n",
    "# create chat messages\n",
    "messages = formatter.generate_messages(\n",
    "    system_message=system_message,\n",
    "    schema_description=schema_description,\n",
    "    query=sample_query,\n",
    "    few_shot_examples=few_shot_examples,\n",
    "    few_shot_query_key=\"question\",\n",
    "    few_shot_target_key=\"SQL\",\n",
    ")"
   ]
  },
  {
   "cell_type": "code",
   "execution_count": 73,
   "metadata": {},
   "outputs": [
    {
     "name": "stdout",
     "output_type": "stream",
     "text": [
      "target schema:\n",
      "california_schools schema:\n",
      "    + tables\n",
      "        frpm: table\n",
      "            + columns\n",
      "                CDSCode: TEXT\n",
      "                Academic Year: TEXT\n",
      "                County Code: TEXT\n",
      "                District Code: INTEGER\n",
      "                School Code: TEXT\n",
      "                County Name: TEXT\n",
      "                District Name: TEXT\n",
      "                School Name: TEXT\n",
      "                District Type: TEXT\n",
      "                School Type: TEXT\n",
      "                Educational Option Type: TEXT\n",
      "                NSLP Provision Status: TEXT\n",
      "                Charter School (Y/N): INTEGER\n",
      "                Charter School Number: TEXT\n",
      "                Charter Funding Type: TEXT\n",
      "                IRC: INTEGER\n",
      "                Low Grade: TEXT\n",
      "                High Grade: TEXT\n",
      "                Enrollment (K-12): REAL\n",
      "                Free Meal Count (K-12): REAL\n",
      "                Percent (%) Eligible Free (K-12): REAL\n",
      "                FRPM Count (K-12): REAL\n",
      "                Percent (%) Eligible FRPM (K-12): REAL\n",
      "                Enrollment (Ages 5-17): REAL\n",
      "                Free Meal Count (Ages 5-17): REAL\n",
      "                Percent (%) Eligible Free (Ages 5-17): REAL\n",
      "                FRPM Count (Ages 5-17): REAL\n",
      "                Percent (%) Eligible FRPM (Ages 5-17): REAL\n",
      "                2013-14 CALPADS Fall 1 Certification Status: INTEGER\n",
      "            + keys\n",
      "                frpm_pk: PK (CDSCode)\n",
      "            + foreign-keys\n",
      "                frpm_CDSCode_fk: foreign key (CDSCode) -> schools[.schools_pk] (CDSCode)\n",
      "\n",
      "        satscores: table\n",
      "            + columns\n",
      "                cds: TEXT\n",
      "                rtype: TEXT\n",
      "                sname: TEXT\n",
      "                dname: TEXT\n",
      "                cname: TEXT\n",
      "                enroll12: INTEGER\n",
      "                NumTstTakr: INTEGER\n",
      "                AvgScrRead: INTEGER\n",
      "                AvgScrMath: INTEGER\n",
      "                AvgScrWrite: INTEGER\n",
      "                NumGE1500: INTEGER\n",
      "            + keys\n",
      "                satscores_pk: PK (cds)\n",
      "            + foreign-keys\n",
      "                satscores_cds_fk: foreign key (cds) -> schools[.schools_pk] (CDSCode)\n",
      "\n",
      "        schools: table\n",
      "            + columns\n",
      "                CDSCode: TEXT\n",
      "                NCESDist: TEXT\n",
      "                NCESSchool: TEXT\n",
      "                StatusType: TEXT\n",
      "                County: TEXT\n",
      "                District: TEXT\n",
      "                School: TEXT\n",
      "                Street: TEXT\n",
      "                StreetAbr: TEXT\n",
      "                City: TEXT\n",
      "                Zip: TEXT\n",
      "                State: TEXT\n",
      "                MailStreet: TEXT\n",
      "                MailStrAbr: TEXT\n",
      "                MailCity: TEXT\n",
      "                MailZip: TEXT\n",
      "                MailState: TEXT\n",
      "                Phone: TEXT\n",
      "                Ext: TEXT\n",
      "                Website: TEXT\n",
      "                OpenDate: DATE\n",
      "                ClosedDate: DATE\n",
      "                Charter: INTEGER\n",
      "                CharterNum: TEXT\n",
      "                FundingType: TEXT\n",
      "                DOC: TEXT\n",
      "                DOCType: TEXT\n",
      "                SOC: TEXT\n",
      "                SOCType: TEXT\n",
      "                EdOpsCode: TEXT\n",
      "                EdOpsName: TEXT\n",
      "                EILCode: TEXT\n",
      "                EILName: TEXT\n",
      "                GSoffered: TEXT\n",
      "                GSserved: TEXT\n",
      "                Virtual: TEXT\n",
      "                Magnet: INTEGER\n",
      "                Latitude: REAL\n",
      "                Longitude: REAL\n",
      "                AdmFName1: TEXT\n",
      "                AdmLName1: TEXT\n",
      "                AdmEmail1: TEXT\n",
      "                AdmFName2: TEXT\n",
      "                AdmLName2: TEXT\n",
      "                AdmEmail2: TEXT\n",
      "                AdmFName3: TEXT\n",
      "                AdmLName3: TEXT\n",
      "                AdmEmail3: TEXT\n",
      "                LastUpdate: DATE\n",
      "            + keys\n",
      "                schools_pk: PK (CDSCode)\n",
      "\n",
      "\n",
      "query: For the school with the highest average score in Reading in the SAT test, what is its FRPM count for students aged 5-17?\n"
     ]
    }
   ],
   "source": [
    "# this is the final user prompt\n",
    "print(messages[-1][\"content\"])"
   ]
  },
  {
   "cell_type": "code",
   "execution_count": 74,
   "metadata": {},
   "outputs": [
    {
     "name": "stdout",
     "output_type": "stream",
     "text": [
      "target:\n",
      "```\n",
      "SELECT T2.`FRPM Count (Ages 5-17)` FROM satscores AS T1 INNER JOIN frpm AS T2 ON T1.cds = T2.CDSCode ORDER BY T1.AvgScrRead DESC LIMIT 1\n",
      "```\n",
      "\n",
      "\n",
      "prediction:\n",
      "```\n",
      "SELECT f.`FRPM Count (Ages 5-17)` \n",
      "FROM satscores s \n",
      "JOIN frpm f ON s.cds = f.CDSCode \n",
      "ORDER BY s.AvgScrRead DESC \n",
      "LIMIT 1;\n",
      "```\n",
      "\n",
      "\n"
     ]
    }
   ],
   "source": [
    "# inference\n",
    "prediction = generator.generate(messages).strip(\"\\n\")  # need better cleaning later\n",
    "print(f\"target:\\n```\\n{sample_sql}\\n```\\n\\n\")\n",
    "print(f\"prediction:\\n```\\n{prediction}\\n```\\n\\n\")"
   ]
  },
  {
   "cell_type": "code",
   "execution_count": 75,
   "metadata": {},
   "outputs": [
    {
     "name": "stdout",
     "output_type": "stream",
     "text": [
      "[{'FRPM Count (Ages 5-17)': 136.0}]\n"
     ]
    }
   ],
   "source": [
    "results = dev_dataset.query_database(sample_db_name, prediction.strip(\"\\n\"))\n",
    "print(results[:3])"
   ]
  },
  {
   "cell_type": "code",
   "execution_count": null,
   "metadata": {},
   "outputs": [],
   "source": []
  }
 ],
 "metadata": {
  "kernelspec": {
   "display_name": "text2sql",
   "language": "python",
   "name": "python3"
  },
  "language_info": {
   "codemirror_mode": {
    "name": "ipython",
    "version": 3
   },
   "file_extension": ".py",
   "mimetype": "text/x-python",
   "name": "python",
   "nbconvert_exporter": "python",
   "pygments_lexer": "ipython3",
   "version": "3.12.7"
  }
 },
 "nbformat": 4,
 "nbformat_minor": 2
}
