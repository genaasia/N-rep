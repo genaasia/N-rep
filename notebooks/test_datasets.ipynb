{
 "cells": [
  {
   "cell_type": "markdown",
   "metadata": {},
   "source": [
    "# test dataset loader"
   ]
  },
  {
   "cell_type": "code",
   "execution_count": 1,
   "metadata": {},
   "outputs": [
    {
     "name": "stdout",
     "output_type": "stream",
     "text": [
      "hello, world!\n"
     ]
    }
   ],
   "source": [
    "import sys\n",
    "sys.path.append(\"../src\")\n",
    "from text2sql import hello\n",
    "print(hello.message)"
   ]
  },
  {
   "cell_type": "code",
   "execution_count": 2,
   "metadata": {},
   "outputs": [],
   "source": [
    "from text2sql.data import SqliteDataset"
   ]
  },
  {
   "cell_type": "code",
   "execution_count": 3,
   "metadata": {},
   "outputs": [],
   "source": [
    "dataset_base_path = \"/home/derek/PythonProjects/gena/data/text2sql_datasets/sqlite_datasets\"\n",
    "dataset = \"bird\"\n",
    "database = \"language_corpus\""
   ]
  },
  {
   "cell_type": "code",
   "execution_count": 4,
   "metadata": {},
   "outputs": [],
   "source": [
    "bird_train_dataset = SqliteDataset(dataset_base_path, dataset)"
   ]
  },
  {
   "cell_type": "code",
   "execution_count": 5,
   "metadata": {},
   "outputs": [
    {
     "name": "stdout",
     "output_type": "stream",
     "text": [
      "address\n",
      "airline\n",
      "app_store\n",
      "authors\n",
      "beer_factory\n",
      "bike_share_1\n",
      "book_publishing_company\n",
      "books\n",
      "car_retails\n",
      "cars\n",
      "chicago_crime\n",
      "citeseer\n"
     ]
    }
   ],
   "source": [
    "# show some databases\n",
    "for d in bird_train_dataset.get_databases()[:12]:\n",
    "    print(d)"
   ]
  },
  {
   "cell_type": "code",
   "execution_count": 6,
   "metadata": {},
   "outputs": [
    {
     "name": "stdout",
     "output_type": "stream",
     "text": [
      "['basic', 'basic_types', 'basic_relations', 'basic_types_relations', 'sql', 'datagrip']\n"
     ]
    }
   ],
   "source": [
    "# show the allowed description modes\n",
    "print(bird_train_dataset.get_schema_description_modes())"
   ]
  },
  {
   "cell_type": "code",
   "execution_count": 7,
   "metadata": {},
   "outputs": [
    {
     "name": "stdout",
     "output_type": "stream",
     "text": [
      "address tables:\n",
      "CBSA ( CBSA (INTEGER) , CBSA_name (TEXT) , CBSA_type (TEXT) )\n",
      "state ( abbreviation (TEXT) , name (TEXT) )\n",
      "congress ( cognress_rep_id (TEXT) , first_name (TEXT) , last_name (TEXT) , CID (TEXT) , party (TEXT) , state (TEXT) , abbreviation (TEXT) , House (TEXT) , District (INTEGER) , land_area (REAL) )\n",
      "zip_data ( zip_code (INTEGER) , city (TEXT) , state (TEXT) , multi_county (TEXT) , type (TEXT) , organization (TEXT) , time_zone (TEXT) , daylight_savings (TEXT) , latitude (REAL) , longitude (REAL) , elevation (INTEGER) , state_fips (INTEGER) , county_fips (INTEGER) , region (TEXT) , division (TEXT) , population_2020 (INTEGER) , population_2010 (INTEGER) , households (INTEGER) , avg_house_value (INTEGER) , avg_income_per_household (INTEGER) , persons_per_household (REAL) , white_population (INTEGER) , black_population (INTEGER) , hispanic_population (INTEGER) , asian_population (INTEGER) , american_indian_population (INTEGER) , hawaiian_population (INTEGER) , other_population (INTEGER) , male_population (INTEGER) , female_population (INTEGER) , median_age (REAL) , male_median_age (REAL) , female_median_age (REAL) , residential_mailboxes (INTEGER) , business_mailboxes (INTEGER) , total_delivery_receptacles (INTEGER) , businesses (INTEGER) , 1st_quarter_payroll (INTEGER) , annual_payroll (INTEGER) , employees (INTEGER) , water_area (REAL) , land_area (REAL) , single_family_delivery_units (INTEGER) , multi_family_delivery_units (INTEGER) , total_beneficiaries (INTEGER) , retired_workers (INTEGER) , disabled_workers (INTEGER) , parents_and_widowed (INTEGER) , spouses (INTEGER) , children (INTEGER) , over_65 (INTEGER) , monthly_benefits_all (INTEGER) , monthly_benefits_retired_workers (INTEGER) , monthly_benefits_widowed (INTEGER) , CBSA (INTEGER) )\n",
      "alias ( zip_code (INTEGER) , alias (TEXT) )\n",
      "area_code ( zip_code (INTEGER) , area_code (INTEGER) )\n",
      "avoid ( zip_code (INTEGER) , bad_alias (TEXT) )\n",
      "country ( zip_code (INTEGER) , county (TEXT) , state (TEXT) )\n",
      "zip_congress ( zip_code (INTEGER) , district (TEXT) )\n"
     ]
    }
   ],
   "source": [
    "print(bird_train_dataset.describe_database_schema(\"address\", mode=\"basic_types\"))"
   ]
  },
  {
   "cell_type": "code",
   "execution_count": 10,
   "metadata": {},
   "outputs": [
    {
     "name": "stdout",
     "output_type": "stream",
     "text": [
      "airline tables:\n",
      "Air Carriers ( Code (INTEGER) , Description (TEXT) )\n",
      "Airports ( Code (TEXT) , Description (TEXT) )\n",
      "Airlines ( FL_DATE (TEXT) , OP_CARRIER_AIRLINE_ID (INTEGER) , TAIL_NUM (TEXT) , OP_CARRIER_FL_NUM (INTEGER) , ORIGIN_AIRPORT_ID (INTEGER) , ORIGIN_AIRPORT_SEQ_ID (INTEGER) , ORIGIN_CITY_MARKET_ID (INTEGER) , ORIGIN (TEXT) , DEST_AIRPORT_ID (INTEGER) , DEST_AIRPORT_SEQ_ID (INTEGER) , DEST_CITY_MARKET_ID (INTEGER) , DEST (TEXT) , CRS_DEP_TIME (INTEGER) , DEP_TIME (INTEGER) , DEP_DELAY (INTEGER) , DEP_DELAY_NEW (INTEGER) , ARR_TIME (INTEGER) , ARR_DELAY (INTEGER) , ARR_DELAY_NEW (INTEGER) , CANCELLED (INTEGER) , CANCELLATION_CODE (TEXT) , CRS_ELAPSED_TIME (INTEGER) , ACTUAL_ELAPSED_TIME (INTEGER) , CARRIER_DELAY (INTEGER) , WEATHER_DELAY (INTEGER) , NAS_DELAY (INTEGER) , SECURITY_DELAY (INTEGER) , LATE_AIRCRAFT_DELAY (INTEGER) )\n",
      "\n",
      "Relations:\n",
      "Airlines.OP_CARRIER_AIRLINE_ID -> Air Carriers.Code\n",
      "Airlines.DEST -> Airports.Code\n",
      "Airlines.ORIGIN -> Airports.Code\n"
     ]
    }
   ],
   "source": [
    "print(bird_train_dataset.describe_database_schema(\"airline\", mode=\"basic_types_relations\"))"
   ]
  },
  {
   "cell_type": "code",
   "execution_count": 8,
   "metadata": {},
   "outputs": [
    {
     "name": "stdout",
     "output_type": "stream",
     "text": [
      "app_store CREATE messages:\n",
      "\n",
      "CREATE TABLE playstore (\n",
      "    App TEXT\n",
      "    Category TEXT\n",
      "    Rating REAL\n",
      "    Reviews INTEGER\n",
      "    Size TEXT\n",
      "    Installs TEXT\n",
      "    Type TEXT\n",
      "    Price TEXT\n",
      "    Content Rating TEXT\n",
      "    Genres TEXT\n",
      ");\n",
      "\n",
      "CREATE TABLE user_reviews (\n",
      "    App TEXT\n",
      "    Translated_Review TEXT\n",
      "    Sentiment TEXT\n",
      "    Sentiment_Polarity TEXT\n",
      "    Sentiment_Subjectivity TEXT\n",
      ",\n",
      "    FOREIGN KEY (App) REFERENCES playstore (App)\n",
      ");\n",
      "\n"
     ]
    }
   ],
   "source": [
    "print(bird_train_dataset.describe_database_schema(\"app_store\", mode=\"sql\"))"
   ]
  },
  {
   "cell_type": "code",
   "execution_count": 9,
   "metadata": {},
   "outputs": [
    {
     "name": "stdout",
     "output_type": "stream",
     "text": [
      "beer_factory schema:\n",
      "    + tables\n",
      "        customers: table\n",
      "            + columns\n",
      "                CustomerID: INTEGER\n",
      "                First: TEXT\n",
      "                Last: TEXT\n",
      "                StreetAddress: TEXT\n",
      "                City: TEXT\n",
      "                State: TEXT\n",
      "                ZipCode: INTEGER\n",
      "                Email: TEXT\n",
      "                PhoneNumber: TEXT\n",
      "                FirstPurchaseDate: DATE\n",
      "                SubscribedToEmailList: TEXT\n",
      "                Gender: TEXT\n",
      "            + keys\n",
      "                customers_pk: PK (CustomerID)\n",
      "\n",
      "        geolocation: table\n",
      "            + columns\n",
      "                LocationID: INTEGER\n",
      "                Latitude: REAL\n",
      "                Longitude: REAL\n",
      "            + keys\n",
      "                geolocation_pk: PK (LocationID)\n",
      "            + foreign-keys\n",
      "                geolocation_LocationID_fk: foreign key (LocationID) -> location[.location_pk] (LocationID)\n",
      "\n",
      "        location: table\n",
      "            + columns\n",
      "                LocationID: INTEGER\n",
      "                LocationName: TEXT\n",
      "                StreetAddress: TEXT\n",
      "                City: TEXT\n",
      "                State: TEXT\n",
      "                ZipCode: INTEGER\n",
      "            + keys\n",
      "                location_pk: PK (LocationID)\n",
      "            + foreign-keys\n",
      "                location_LocationID_fk: foreign key (LocationID) -> geolocation[.geolocation_pk] (LocationID)\n",
      "\n",
      "        rootbeerbrand: table\n",
      "            + columns\n",
      "                BrandID: INTEGER\n",
      "                BrandName: TEXT\n",
      "                FirstBrewedYear: INTEGER\n",
      "                BreweryName: TEXT\n",
      "                City: TEXT\n",
      "                State: TEXT\n",
      "                Country: TEXT\n",
      "                Description: TEXT\n",
      "                CaneSugar: TEXT\n",
      "                CornSyrup: TEXT\n",
      "                Honey: TEXT\n",
      "                ArtificialSweetener: TEXT\n",
      "                Caffeinated: TEXT\n",
      "                Alcoholic: TEXT\n",
      "                AvailableInCans: TEXT\n",
      "                AvailableInBottles: TEXT\n",
      "                AvailableInKegs: TEXT\n",
      "                Website: TEXT\n",
      "                FacebookPage: TEXT\n",
      "                Twitter: TEXT\n",
      "                WholesaleCost: REAL\n",
      "                CurrentRetailPrice: REAL\n",
      "            + keys\n",
      "                rootbeerbrand_pk: PK (BrandID)\n",
      "\n",
      "        rootbeer: table\n",
      "            + columns\n",
      "                RootBeerID: INTEGER\n",
      "                BrandID: INTEGER\n",
      "                ContainerType: TEXT\n",
      "                LocationID: INTEGER\n",
      "                PurchaseDate: DATE\n",
      "            + keys\n",
      "                rootbeer_pk: PK (RootBeerID)\n",
      "            + foreign-keys\n",
      "                rootbeer_BrandID_fk: foreign key (BrandID) -> rootbeerbrand[.rootbeerbrand_pk] (BrandID)\n",
      "                rootbeer_LocationID_fk: foreign key (LocationID) -> geolocation[.geolocation_pk] (LocationID)\n",
      "\n",
      "        rootbeerreview: table\n",
      "            + columns\n",
      "                CustomerID: INTEGER\n",
      "                BrandID: INTEGER\n",
      "                StarRating: INTEGER\n",
      "                ReviewDate: DATE\n",
      "                Review: TEXT\n",
      "            + keys\n",
      "                rootbeerreview_pk: PK (BrandID)\n",
      "            + foreign-keys\n",
      "                rootbeerreview_BrandID_fk: foreign key (BrandID) -> rootbeerbrand[.rootbeerbrand_pk] (BrandID)\n",
      "                rootbeerreview_CustomerID_fk: foreign key (CustomerID) -> customers[.customers_pk] (CustomerID)\n",
      "\n",
      "        transaction: table\n",
      "            + columns\n",
      "                TransactionID: INTEGER\n",
      "                CreditCardNumber: INTEGER\n",
      "                CustomerID: INTEGER\n",
      "                TransactionDate: DATE\n",
      "                CreditCardType: TEXT\n",
      "                LocationID: INTEGER\n",
      "                RootBeerID: INTEGER\n",
      "                PurchasePrice: REAL\n",
      "            + keys\n",
      "                transaction_pk: PK (TransactionID)\n",
      "            + foreign-keys\n",
      "                transaction_RootBeerID_fk: foreign key (RootBeerID) -> rootbeer[.rootbeer_pk] (RootBeerID)\n",
      "                transaction_LocationID_fk: foreign key (LocationID) -> location[.location_pk] (LocationID)\n",
      "                transaction_CustomerID_fk: foreign key (CustomerID) -> customers[.customers_pk] (CustomerID)\n",
      "\n"
     ]
    }
   ],
   "source": [
    "print(bird_train_dataset.describe_database_schema(\"beer_factory\", mode=\"datagrip\"))"
   ]
  },
  {
   "cell_type": "code",
   "execution_count": null,
   "metadata": {},
   "outputs": [],
   "source": []
  }
 ],
 "metadata": {
  "kernelspec": {
   "display_name": "text2sql",
   "language": "python",
   "name": "python3"
  },
  "language_info": {
   "codemirror_mode": {
    "name": "ipython",
    "version": 3
   },
   "file_extension": ".py",
   "mimetype": "text/x-python",
   "name": "python",
   "nbconvert_exporter": "python",
   "pygments_lexer": "ipython3",
   "version": "3.12.7"
  }
 },
 "nbformat": 4,
 "nbformat_minor": 2
}
