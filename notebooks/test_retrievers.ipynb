{
 "cells": [
  {
   "cell_type": "markdown",
   "metadata": {},
   "source": [
    "# test retrieval functions"
   ]
  },
  {
   "cell_type": "code",
   "execution_count": 1,
   "metadata": {},
   "outputs": [
    {
     "name": "stdout",
     "output_type": "stream",
     "text": [
      "hello, world!\n"
     ]
    }
   ],
   "source": [
    "import sys\n",
    "sys.path.append(\"../src\")\n",
    "from text2sql import hello\n",
    "print(hello.message)"
   ]
  },
  {
   "cell_type": "code",
   "execution_count": 2,
   "metadata": {},
   "outputs": [
    {
     "name": "stderr",
     "output_type": "stream",
     "text": [
      "/home/derek/miniconda3/envs/text2sql/lib/python3.12/site-packages/sentence_transformers/cross_encoder/CrossEncoder.py:13: TqdmWarning: IProgress not found. Please update jupyter and ipywidgets. See https://ipywidgets.readthedocs.io/en/stable/user_install.html\n",
      "  from tqdm.autonotebook import tqdm, trange\n"
     ]
    }
   ],
   "source": [
    "import json\n",
    "\n",
    "import numpy as np\n",
    "\n",
    "from text2sql.engine.embeddings import SentenceTransformerEmbedder\n",
    "from text2sql.engine.retrieval import LocalRetriever, WeaviateRetriever"
   ]
  },
  {
   "cell_type": "code",
   "execution_count": 3,
   "metadata": {},
   "outputs": [
    {
     "name": "stderr",
     "output_type": "stream",
     "text": [
      "/home/derek/miniconda3/envs/text2sql/lib/python3.12/site-packages/transformers/tokenization_utils_base.py:1601: FutureWarning: `clean_up_tokenization_spaces` was not set. It will be set to `True` by default. This behavior will be depracted in transformers v4.45, and will be then set to `False` by default. For more details check this issue: https://github.com/huggingface/transformers/issues/31884\n",
      "  warnings.warn(\n"
     ]
    }
   ],
   "source": [
    "sentence_transformer_embedder = SentenceTransformerEmbedder(\n",
    "    model_path=\"sentence-transformers/LaBSE\"\n",
    ")"
   ]
  },
  {
   "cell_type": "code",
   "execution_count": 4,
   "metadata": {},
   "outputs": [],
   "source": [
    "# test with text from aeneid (public domain) \n",
    "# https://classics.mit.edu/Virgil/aeneid.1.i.html\n",
    "import os\n",
    "\n",
    "with open(\"aeneid_sample.txt\") as f:\n",
    "    texts = f.read().split(\"\\n\")\n",
    "texts = [t.strip().lstrip() for t in texts if t]\n",
    "\n",
    "if not os.path.exists(\"aeneid_sample_embeddings.npy\"):\n",
    "    embeddings = sentence_transformer_embedder.embed(texts, verbose=True)\n",
    "    np.save(\"aeneid_sample_embeddings.npy\", embeddings)\n",
    "else:\n",
    "    embeddings = np.load(\"aeneid_sample_embeddings.npy\")\n",
    "assert len(embeddings) == len(texts)"
   ]
  },
  {
   "cell_type": "code",
   "execution_count": 5,
   "metadata": {},
   "outputs": [],
   "source": [
    "data = [{\"line\": line + 1, \"text\": text} for line, text in enumerate(texts)]"
   ]
  },
  {
   "cell_type": "code",
   "execution_count": 6,
   "metadata": {},
   "outputs": [],
   "source": [
    "query_text = \"Before his eyes his goddess mother stood:\"\n",
    "query_vector = sentence_transformer_embedder.embed(query_text)"
   ]
  },
  {
   "cell_type": "markdown",
   "metadata": {},
   "source": [
    "### test local retriever"
   ]
  },
  {
   "cell_type": "code",
   "execution_count": 7,
   "metadata": {},
   "outputs": [
    {
     "name": "stdout",
     "output_type": "stream",
     "text": [
      "{\n",
      "  \"id\": 434,\n",
      "  \"distance\": 0.0,\n",
      "  \"data\": {\n",
      "    \"line\": 435,\n",
      "    \"text\": \"Before his eyes his goddess mother stood:\"\n",
      "  }\n",
      "}\n",
      "{\n",
      "  \"id\": 826,\n",
      "  \"distance\": 0.38323378562927246,\n",
      "  \"data\": {\n",
      "    \"line\": 827,\n",
      "    \"text\": \"His mother goddess, with her hands divine,\"\n",
      "  }\n",
      "}\n",
      "{\n",
      "  \"id\": 487,\n",
      "  \"distance\": 0.47407424449920654,\n",
      "  \"data\": {\n",
      "    \"line\": 488,\n",
      "    \"text\": \"Of her unhappy lord: the spectre stares,\"\n",
      "  }\n",
      "}\n",
      "{\n",
      "  \"id\": 919,\n",
      "  \"distance\": 0.49701905250549316,\n",
      "  \"data\": {\n",
      "    \"line\": 920,\n",
      "    \"text\": \"Her mother Leda\\u2019s present, when she came\"\n",
      "  }\n",
      "}\n",
      "{\n",
      "  \"id\": 967,\n",
      "  \"distance\": 0.5039515495300293,\n",
      "  \"data\": {\n",
      "    \"line\": 968,\n",
      "    \"text\": \"He walks Iulus in his mother\\u2019s sight,\"\n",
      "  }\n",
      "}\n"
     ]
    }
   ],
   "source": [
    "local_retriever = LocalRetriever(embeddings=embeddings, data=data)\n",
    "local_responses = local_retriever.query(query_vector, top_k=5)\n",
    "for d in local_responses:\n",
    "    print(json.dumps(d, indent=2))"
   ]
  },
  {
   "cell_type": "markdown",
   "metadata": {},
   "source": [
    "### test weaviate retriever"
   ]
  },
  {
   "cell_type": "code",
   "execution_count": 8,
   "metadata": {},
   "outputs": [],
   "source": [
    "weaviate_host = \"localhost\"\n",
    "weaviate_port = 8081\n",
    "weaviate_gpu_port = 50051\n",
    "\n",
    "weaviate_retriever = WeaviateRetriever(\n",
    "    host=weaviate_host,\n",
    "    port=weaviate_port,\n",
    "    grpc_port=weaviate_gpu_port,\n",
    "    collection_name=\"AeneidLabse\"\n",
    ")"
   ]
  },
  {
   "cell_type": "code",
   "execution_count": 9,
   "metadata": {},
   "outputs": [
    {
     "name": "stderr",
     "output_type": "stream",
     "text": [
      "100%|██████████| 1066/1066 [00:00<00:00, 4682.41it/s]"
     ]
    },
    {
     "name": "stdout",
     "output_type": "stream",
     "text": [
      "AeneidLabse 1066\n"
     ]
    },
    {
     "name": "stderr",
     "output_type": "stream",
     "text": [
      "\n"
     ]
    }
   ],
   "source": [
    "# add data\n",
    "info = weaviate_retriever.populate_collection(embeddings, data, delete_existing=True, verbose=True)\n",
    "print(info.get(\"collection_name\"), info.get(\"count\"))"
   ]
  },
  {
   "cell_type": "code",
   "execution_count": 10,
   "metadata": {},
   "outputs": [
    {
     "name": "stdout",
     "output_type": "stream",
     "text": [
      "{\n",
      "  \"id\": \"1ecd05b6-22f0-5a8a-bd06-d3906706d060\",\n",
      "  \"distance\": -2.384185791015625e-07,\n",
      "  \"data\": {\n",
      "    \"text\": \"Before his eyes his goddess mother stood:\",\n",
      "    \"line\": 435\n",
      "  }\n",
      "}\n",
      "{\n",
      "  \"id\": \"138b2937-9715-5573-beca-f2e6e6b36d34\",\n",
      "  \"distance\": 0.38323378562927246,\n",
      "  \"data\": {\n",
      "    \"text\": \"His mother goddess, with her hands divine,\",\n",
      "    \"line\": 827\n",
      "  }\n",
      "}\n",
      "{\n",
      "  \"id\": \"630e9061-18e4-5c36-a93b-5258f9541043\",\n",
      "  \"distance\": 0.47407418489456177,\n",
      "  \"data\": {\n",
      "    \"text\": \"Of her unhappy lord: the spectre stares,\",\n",
      "    \"line\": 488\n",
      "  }\n",
      "}\n",
      "{\n",
      "  \"id\": \"c68e098b-e587-52b7-8302-1dfcec7d2bc4\",\n",
      "  \"distance\": 0.4970189332962036,\n",
      "  \"data\": {\n",
      "    \"text\": \"Her mother Leda\\u2019s present, when she came\",\n",
      "    \"line\": 920\n",
      "  }\n",
      "}\n",
      "{\n",
      "  \"id\": \"9639d4a1-576e-58b9-89dc-c30f7a94a4d1\",\n",
      "  \"distance\": 0.503951370716095,\n",
      "  \"data\": {\n",
      "    \"text\": \"He walks Iulus in his mother\\u2019s sight,\",\n",
      "    \"line\": 968\n",
      "  }\n",
      "}\n"
     ]
    }
   ],
   "source": [
    "# query\n",
    "weaviate_responses = weaviate_retriever.query(query_vector, top_k=5)\n",
    "for d in weaviate_responses:\n",
    "    print(json.dumps(d, indent=2))\n"
   ]
  },
  {
   "cell_type": "code",
   "execution_count": null,
   "metadata": {},
   "outputs": [],
   "source": []
  }
 ],
 "metadata": {
  "kernelspec": {
   "display_name": "text2sql",
   "language": "python",
   "name": "python3"
  },
  "language_info": {
   "codemirror_mode": {
    "name": "ipython",
    "version": 3
   },
   "file_extension": ".py",
   "mimetype": "text/x-python",
   "name": "python",
   "nbconvert_exporter": "python",
   "pygments_lexer": "ipython3",
   "version": "3.12.7"
  }
 },
 "nbformat": 4,
 "nbformat_minor": 2
}
