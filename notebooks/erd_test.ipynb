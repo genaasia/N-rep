{
 "cells": [
  {
   "cell_type": "markdown",
   "metadata": {},
   "source": [
    "# example for generating database schema from business needs description\n",
    "\n",
    "## setup\n",
    "\n",
    "- for best results, setup new virtual environment (using `virtualenv`, `conda`, etc.)\n",
    "- install the requirements from `requirements.txt` (using `pip`) or from `requlrements.yaml` (if using `conda`)\n",
    "- in this \"notebooks\" directory, create a new `.env` file and add the Microsoft Azure key info, as shown below\n",
    "- now you can run this notebook\n",
    "\n",
    "## .env file contents\n",
    "\n",
    "the `.env` file should have the following information:\n",
    "\n",
    "(replace the key, endpoint and model! api version can be \"2024-10-21\")\n",
    "\n",
    "```\n",
    "AZURE_OPENAI_API_KEY=\"abcd1234wxyz9999abcdefghijklmnop123456789\"\n",
    "AZURE_OPENAI_API_ENDPOINT=\"https://my-great-organization.openai.azure.com/\"\n",
    "AZURE_OPENAI_API_VERSION=\"2024-10-21\"\n",
    "AZURE_OPENAI_MODEL=\"name-of-my-gpt\"\n",
    "```"
   ]
  },
  {
   "cell_type": "code",
   "execution_count": 8,
   "metadata": {},
   "outputs": [
    {
     "name": "stdout",
     "output_type": "stream",
     "text": [
      "hello, world!\n"
     ]
    }
   ],
   "source": [
    "# import the 'text2sql' module from the src directory\n",
    "# it should print \"hello world!\"\n",
    "import sys\n",
    "sys.path.append(\"../src\")\n",
    "from text2sql import hello\n",
    "print(hello.message)"
   ]
  },
  {
   "cell_type": "code",
   "execution_count": 19,
   "metadata": {},
   "outputs": [],
   "source": [
    "import os\n",
    "\n",
    "from dotenv import load_dotenv\n",
    "\n",
    "from text2sql.engine.generation import AzureGenerator\n",
    "from text2sql.engine.generation.postprocessing import extract_first_code_block"
   ]
  },
  {
   "cell_type": "code",
   "execution_count": 14,
   "metadata": {},
   "outputs": [
    {
     "data": {
      "text/plain": [
       "True"
      ]
     },
     "execution_count": 14,
     "metadata": {},
     "output_type": "execute_result"
    }
   ],
   "source": [
    "# load the env variables\n",
    "load_dotenv()"
   ]
  },
  {
   "cell_type": "code",
   "execution_count": 15,
   "metadata": {},
   "outputs": [],
   "source": [
    "# create a generator\n",
    "generator = AzureGenerator(\n",
    "    api_key=os.environ.get(\"AZURE_OPENAI_API_KEY\"),\n",
    "    azure_endpoint=os.environ.get(\"AZURE_OPENAI_API_ENDPOINT\"),\n",
    "    api_version=os.environ.get(\"AZURE_OPENAI_API_VERSION\"),\n",
    "    model=os.environ.get(\"AZURE_OPENAI_MODEL\"),\n",
    ")"
   ]
  },
  {
   "cell_type": "code",
   "execution_count": null,
   "metadata": {},
   "outputs": [],
   "source": [
    "# create the inputs\n",
    "system_prompt: str = \"you are a data scientist specializing in SQL.\"\n",
    "\n",
    "user_message: str = \"\"\"\n",
    "\"hello, please write me an sql file to create an empty database for an online clothing retailer.\n",
    "\n",
    "here are a list of business needs that should be reflected in the database:\n",
    "- each clothing item can have different sizes and colors, and each unique combination is its own SKU.\n",
    "- clothing items need to be grouped by department (mens, womens, kids, etc.) and category (tops, bottoms, outerwear, etc.)\n",
    "- the website is an online store, so customers can add items to cart, and then checkout and pay online.\n",
    "- out shop and customers are international and we support multiple languages on our storefront.\n",
    "- customers can also reviews on objects, which are 1~5 stars with optional text comment.\n",
    "- customers can favorite items for later to multiple lists, see and edit their lists, and make them public to share.\n",
    "\n",
    "first, generate a list of all tables we need for this database, then write the SQL to create all tables and columns.\n",
    "write the SQL inside a markdown code block (```sql) so I can copy it into a file. \n",
    "\"\"\" "
   ]
  },
  {
   "cell_type": "code",
   "execution_count": 18,
   "metadata": {},
   "outputs": [],
   "source": [
    "# input is messages with system, user and assistant roles\n",
    "messages = [\n",
    "    {\"role\": \"system\", \"content\": system_prompt},\n",
    "    {\"role\": \"user\", \"content\": user_message},\n",
    "]"
   ]
  },
  {
   "cell_type": "code",
   "execution_count": null,
   "metadata": {},
   "outputs": [
    {
     "name": "stdout",
     "output_type": "stream",
     "text": [
      "Sure! Based on the business needs, here is the list of tables required for the online clothing retailer database:\n",
      "\n",
      "1. **Departments** - To store different departments such as mens, womens, kids, etc.\n",
      "2. **Categories** - To store different clothing categories like tops, bottoms, outerwear, etc.\n",
      "3. **ClothingItems** - To store information about each clothing item.\n",
      "4. **Sizes** - To store different available sizes for clothing items.\n",
      "5. **Colors** - To store different available colors for clothing items.\n",
      "6. **SKUs** - To store each unique SKU which is a combination of clothing item, size, and color.\n",
      "7. **Customers** - To store customer information.\n",
      "8. **ShoppingCart** - To store customer's shopping cart items.\n",
      "9. **Orders** - To store customer orders after checkout.\n",
      "10. **OrderItems** - To store items belonging to a specific order.\n",
      "11. **Languages** - To store supported languages.\n",
      "12. **Reviews** - To store customer reviews for clothing items.\n",
      "13. **Favorites** - To store customer's favorites lists.\n",
      "14. **Favori\n"
     ]
    }
   ],
   "source": [
    "# generate and print the response head\n",
    "response = generator.generate(messages)\n",
    "print(response[:1024])"
   ]
  },
  {
   "cell_type": "code",
   "execution_count": 23,
   "metadata": {},
   "outputs": [
    {
     "name": "stdout",
     "output_type": "stream",
     "text": [
      "SQL written to output.sql\n"
     ]
    }
   ],
   "source": [
    "sql = extract_first_code_block(response)\n",
    "with open(\"output.sql\", \"w\") as f:\n",
    "    f.write(sql)\n",
    "print(\"SQL written to output.sql\")"
   ]
  },
  {
   "cell_type": "code",
   "execution_count": 24,
   "metadata": {},
   "outputs": [
    {
     "name": "stdout",
     "output_type": "stream",
     "text": [
      "-- Departments Table\n",
      "CREATE TABLE Departments (\n",
      "    DepartmentID INT PRIMARY KEY AUTO_INCREMENT,\n",
      "    Name VARCHAR(100) NOT NULL\n",
      ");\n",
      "\n",
      "-- Categories Table\n",
      "CREATE TABLE Categories (\n",
      "    CategoryID INT PRIMARY KEY AUTO_INCREMENT,\n",
      "    Name VARCHAR(100) NOT NULL\n",
      ");\n",
      "\n",
      "-- ClothingItems Table\n",
      "CREATE TABLE ClothingItems (\n",
      "    ClothingItemID INT PRIMARY KEY AUTO_INCREMENT,\n",
      "    Name VARCHAR(255) NOT NULL,\n",
      "    Description TEXT,\n",
      "    Price DECIMAL(10, 2) NOT NULL,\n",
      "    DepartmentID INT,\n",
      "    CategoryID INT,\n",
      "    FOREIGN KEY (DepartmentID) REFERENCES Departments(DepartmentID),\n",
      "    FOREIGN KEY (CategoryID) REFERENCES Categories(CategoryID)\n",
      ");\n",
      "\n",
      "-- Sizes Table\n",
      "CREATE TABLE Sizes (\n",
      "    SizeID INT PRIMARY KEY AUTO_INCREMENT,\n",
      "    Name VARCHAR(50) NOT NULL\n",
      ");\n",
      "\n",
      "-- Colors Table\n",
      "CREATE TABLE Colors (\n",
      "    ColorID INT PRIMARY KEY AUTO_INCREMENT,\n",
      "    Name VARCHAR(50) NOT NULL\n",
      ");\n",
      "\n",
      "-- SKUs Table\n",
      "CREATE TABLE SKUs (\n",
      "    SKU INT PRIMARY KEY AUTO_INCREMENT,\n",
      "    ClothingItemID INT,\n",
      "    SizeID INT,\n",
      "    ColorID INT,\n",
      "    Quantity INT NOT NULL,\n",
      "    FOREIGN KEY (ClothingItemID) REFERENCES ClothingItems(ClothingItemID),\n",
      "    FOREIGN KEY (SizeID) REFERENCES Sizes(SizeID),\n",
      "    FOREIGN KEY (ColorID) REFERENCES Colors(ColorID),\n",
      "    UNIQUE (ClothingItemID, SizeID, ColorID)\n",
      ");\n",
      "\n",
      "-- Customers Table\n",
      "CREATE TABLE Customers (\n",
      "    CustomerID INT PRIMARY KEY AUTO_INCREMENT,\n",
      "    FirstName VARCHAR(100) NOT NULL,\n",
      "    LastName VARCHAR(100) NOT NULL,\n",
      "    Email VARCHAR(255) UNIQUE NOT NULL,\n",
      "    Password VARCHAR(255) NOT NULL,\n",
      "    Phone VARCHAR(50),\n",
      "    Address VARCHAR(255),\n",
      "    Country VARCHAR(100)\n",
      ");\n",
      "\n",
      "-- ShoppingCart Table\n",
      "CREATE TABLE ShoppingCart (\n",
      "    CartID INT PRIMARY KEY AUTO_INCREMENT,\n",
      "    CustomerID INT,\n",
      "    SKU INT,\n",
      "    Quantity INT NOT NULL,\n",
      "    FOREIGN KEY (CustomerID) REFERENCES Customers(CustomerID),\n",
      "    FOREIGN KEY (SKU) REFERENCES SKUs(SKU)\n",
      ");\n",
      "\n",
      "-- Orders Table\n",
      "CREATE TABLE Orders (\n",
      "    OrderID INT PRIMARY KEY AUTO_INCREMENT,\n",
      "    CustomerID INT,\n",
      "    OrderDate TIMESTAMP DEFAULT CURRENT_TIMESTAMP,\n",
      "    TotalAmount DECIMAL(10, 2) NOT NULL,\n",
      "    PaymentStatus VARCHAR(50) NOT NULL,\n",
      "    FOREIGN KEY (CustomerID) REFERENCES Customers(CustomerID)\n",
      ");\n",
      "\n",
      "-- OrderItems Table\n",
      "CREATE TABLE OrderItems (\n",
      "    OrderItemID INT PRIMARY KEY AUTO_INCREMENT,\n",
      "    OrderID INT,\n",
      "    SKU INT,\n",
      "    Quantity INT NOT NULL,\n",
      "    ItemPrice DECIMAL(10, 2) NOT NULL,\n",
      "    FOREIGN KEY (OrderID) REFERENCES Orders(OrderID),\n",
      "    FOREIGN KEY (SKU) REFERENCES SKUs(SKU)\n",
      ");\n",
      "\n",
      "-- Languages Table\n",
      "CREATE TABLE Languages (\n",
      "    LanguageID INT PRIMARY KEY AUTO_INCREMENT,\n",
      "    Name VARCHAR(100) NOT NULL,\n",
      "    Code VARCHAR(10) UNIQUE NOT NULL\n",
      ");\n",
      "\n",
      "-- Reviews Table\n",
      "CREATE TABLE Reviews (\n",
      "    ReviewID INT PRIMARY KEY AUTO_INCREMENT,\n",
      "    CustomerID INT,\n",
      "    ClothingItemID INT,\n",
      "    Rating INT CHECK (Rating BETWEEN 1 AND 5),\n",
      "    Comment TEXT,\n",
      "    FOREIGN KEY (CustomerID) REFERENCES Customers(CustomerID),\n",
      "    FOREIGN KEY (ClothingItemID) REFERENCES ClothingItems(ClothingItemID)\n",
      ");\n",
      "\n",
      "-- Favorites Table\n",
      "CREATE TABLE Favorites (\n",
      "    FavoriteID INT PRIMARY KEY AUTO_INCREMENT,\n",
      "    CustomerID INT,\n",
      "    Name VARCHAR(255) NOT NULL,\n",
      "    IsPublic BOOLEAN DEFAULT FALSE,\n",
      "    FOREIGN KEY (CustomerID) REFERENCES Customers(CustomerID)\n",
      ");\n",
      "\n",
      "-- FavoriteItems Table\n",
      "CREATE TABLE FavoriteItems (\n",
      "    FavoriteItemID INT PRIMARY KEY AUTO_INCREMENT,\n",
      "    FavoriteID INT,\n",
      "    ClothingItemID INT,\n",
      "    FOREIGN KEY (FavoriteID) REFERENCES Favorites(FavoriteID),\n",
      "    FOREIGN KEY (ClothingItemID) REFERENCES ClothingItems(ClothingItemID)\n",
      ");\n"
     ]
    }
   ],
   "source": [
    "print(sql)"
   ]
  },
  {
   "cell_type": "code",
   "execution_count": null,
   "metadata": {},
   "outputs": [],
   "source": []
  }
 ],
 "metadata": {
  "kernelspec": {
   "display_name": "text2sql",
   "language": "python",
   "name": "python3"
  },
  "language_info": {
   "codemirror_mode": {
    "name": "ipython",
    "version": 3
   },
   "file_extension": ".py",
   "mimetype": "text/x-python",
   "name": "python",
   "nbconvert_exporter": "python",
   "pygments_lexer": "ipython3",
   "version": "3.12.7"
  }
 },
 "nbformat": 4,
 "nbformat_minor": 2
}
