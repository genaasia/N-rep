{
 "cells": [
  {
   "cell_type": "markdown",
   "metadata": {},
   "source": [
    "# example for generating database schema from business needs description\n",
    "\n",
    "## setup\n",
    "\n",
    "- for best results, setup new virtual environment (using `virtualenv`, `conda`, etc.)\n",
    "- install the requirements from `requirements.txt` (using `pip`) or from `requlrements.yaml` (if using `conda`)\n",
    "- in this \"notebooks\" directory, create a new `.env` file and add the Microsoft Azure key info, as shown below\n",
    "- now you can run this notebook\n",
    "\n",
    "## .env file contents\n",
    "\n",
    "the `.env` file should have the following information:\n",
    "\n",
    "(replace the key, endpoint and model! api version can be \"2024-10-21\")\n",
    "\n",
    "```\n",
    "AZURE_OPENAI_API_KEY=\"abcd1234wxyz9999abcdefghijklmnop123456789\"\n",
    "AZURE_OPENAI_API_ENDPOINT=\"https://my-great-organization.openai.azure.com/\"\n",
    "AZURE_OPENAI_API_VERSION=\"2024-10-21\"\n",
    "AZURE_OPENAI_MODEL=\"name-of-my-gpt\"\n",
    "\n",
    "GCP_KEY=\"abcd1234thisIsMyGoogleAPIKey\"\n",
    "```"
   ]
  },
  {
   "cell_type": "code",
   "execution_count": 1,
   "metadata": {},
   "outputs": [
    {
     "name": "stdout",
     "output_type": "stream",
     "text": [
      "hello, world!\n"
     ]
    }
   ],
   "source": [
    "# import the 'text2sql' module from the src directory\n",
    "# it should print \"hello world!\"\n",
    "import sys\n",
    "sys.path.append(\"../src\")\n",
    "from text2sql import hello\n",
    "print(hello.message)"
   ]
  },
  {
   "cell_type": "code",
   "execution_count": 2,
   "metadata": {},
   "outputs": [
    {
     "name": "stderr",
     "output_type": "stream",
     "text": [
      "/home/derek/miniconda3/envs/text2sql/lib/python3.12/site-packages/tqdm/auto.py:21: TqdmWarning: IProgress not found. Please update jupyter and ipywidgets. See https://ipywidgets.readthedocs.io/en/stable/user_install.html\n",
      "  from .autonotebook import tqdm as notebook_tqdm\n"
     ]
    }
   ],
   "source": [
    "import os\n",
    "\n",
    "from dotenv import load_dotenv\n",
    "\n",
    "from text2sql.engine.generation import AzureGenerator, GCPGenerator\n",
    "from text2sql.engine.generation.postprocessing import extract_first_code_block"
   ]
  },
  {
   "cell_type": "code",
   "execution_count": 3,
   "metadata": {},
   "outputs": [
    {
     "data": {
      "text/plain": [
       "True"
      ]
     },
     "execution_count": 3,
     "metadata": {},
     "output_type": "execute_result"
    }
   ],
   "source": [
    "# load the env variables\n",
    "load_dotenv()"
   ]
  },
  {
   "cell_type": "code",
   "execution_count": 11,
   "metadata": {},
   "outputs": [],
   "source": [
    "# create a generator\n",
    "engine = \"gcp\"\n",
    "\n",
    "if engine == \"azure\":\n",
    "    generator = AzureGenerator(\n",
    "        api_key=os.environ.get(\"AZURE_OPENAI_API_KEY\"),\n",
    "        azure_endpoint=os.environ.get(\"AZURE_OPENAI_API_ENDPOINT\"),\n",
    "        api_version=os.environ.get(\"AZURE_OPENAI_API_VERSION\"),\n",
    "        model=os.environ.get(\"AZURE_OPENAI_MODEL\"),\n",
    "    )\n",
    "\n",
    "elif engine == \"gcp\":\n",
    "    generator = GCPGenerator(\n",
    "        api_key=os.environ.get(\"GCP_KEY\"),\n",
    "        model=\"gemini-1.5-flash\",\n",
    "    )\n",
    "\n",
    "else:\n",
    "    raise ValueError(f\"Unknown engine: {engine}\")"
   ]
  },
  {
   "cell_type": "code",
   "execution_count": 12,
   "metadata": {},
   "outputs": [],
   "source": [
    "# create the inputs\n",
    "system_prompt: str = \"you are a data scientist specializing in SQL.\"\n",
    "\n",
    "user_message: str = \"\"\"\n",
    "\"hello, please write me an sql file to create an empty database for an online clothing retailer.\n",
    "\n",
    "here are a list of business needs that should be reflected in the database:\n",
    "- each clothing item can have different sizes and colors, and each unique combination is its own SKU.\n",
    "- clothing items need to be grouped by department (mens, womens, kids, etc.) and category (tops, bottoms, outerwear, etc.)\n",
    "- the website is an online store, so customers can add items to cart, and then checkout and pay online.\n",
    "- out shop and customers are international and we support multiple languages on our storefront.\n",
    "- customers can also reviews on objects, which are 1~5 stars with optional text comment.\n",
    "- customers can favorite items for later to multiple lists, see and edit their lists, and make them public to share.\n",
    "\n",
    "first, generate a list of all tables we need for this database, then write the SQL to create all tables and columns.\n",
    "write the SQL inside a markdown code block (```sql) so I can copy it into a file. \n",
    "\"\"\" "
   ]
  },
  {
   "cell_type": "code",
   "execution_count": 13,
   "metadata": {},
   "outputs": [],
   "source": [
    "# input is messages with system, user and assistant roles\n",
    "messages = [\n",
    "    {\"role\": \"system\", \"content\": system_prompt},\n",
    "    {\"role\": \"user\", \"content\": user_message},\n",
    "]"
   ]
  },
  {
   "cell_type": "code",
   "execution_count": 14,
   "metadata": {},
   "outputs": [
    {
     "name": "stdout",
     "output_type": "stream",
     "text": [
      "Here's a proposed schema for your online clothing retailer database, along with the SQL to create the tables.  I've included considerations for data integrity and efficiency.\n",
      "\n",
      "**Tables:**\n",
      "\n",
      "* **Departments:** Stores department information (e.g., Men's, Women's).\n",
      "* **Categories:** Stores clothing categories (e.g., Tops, Bottoms).\n",
      "* **Items:** Stores general information about clothing items.\n",
      "* **SKUs:** Stores information on specific item variations (size, color, SKU).\n",
      "* **Languages:** Stores supported languages.\n",
      "* **Customers:** Stores customer information.\n",
      "* **Addresses:** Stores customer addresses (can be multiple per customer).\n",
      "* **Carts:** Stores shopping carts for each customer session.\n",
      "* **CartItems:**  Links cart to specific SKUs and quantities.\n",
      "* **Orders:** Stores order information after checkout.\n",
      "* **OrderItems:** Links orders to specific SKUs and quantities.\n",
      "* **Reviews:** Stores customer reviews.\n",
      "* **FavoritesLists:** Stores customer's favorite lists.\n",
      "* **Favorites:** Links customers' favorite lists\n"
     ]
    }
   ],
   "source": [
    "# generate and print the response head\n",
    "response = generator.generate(messages)\n",
    "print(response[:1024])"
   ]
  },
  {
   "cell_type": "code",
   "execution_count": 15,
   "metadata": {},
   "outputs": [
    {
     "name": "stdout",
     "output_type": "stream",
     "text": [
      "SQL written to output.sql\n"
     ]
    }
   ],
   "source": [
    "sql = extract_first_code_block(response)\n",
    "with open(\"output.sql\", \"w\") as f:\n",
    "    f.write(sql)\n",
    "print(\"SQL written to output.sql\")"
   ]
  },
  {
   "cell_type": "code",
   "execution_count": 16,
   "metadata": {},
   "outputs": [
    {
     "name": "stdout",
     "output_type": "stream",
     "text": [
      "-- Create the Departments table\n",
      "CREATE TABLE Departments (\n",
      "    department_id INT PRIMARY KEY AUTO_INCREMENT,\n",
      "    department_name VARCHAR(255) UNIQUE NOT NULL\n",
      ");\n",
      "\n",
      "-- Create the Categories table\n",
      "CREATE TABLE Categories (\n",
      "    category_id INT PRIMARY KEY AUTO_INCREMENT,\n",
      "    category_name VARCHAR(255) UNIQUE NOT NULL\n",
      ");\n",
      "\n",
      "-- Create the Items table\n",
      "CREATE TABLE Items (\n",
      "    item_id INT PRIMARY KEY AUTO_INCREMENT,\n",
      "    department_id INT NOT NULL,\n",
      "    category_id INT NOT NULL,\n",
      "    item_name VARCHAR(255) NOT NULL,\n",
      "    description TEXT,\n",
      "    image_url VARCHAR(255),\n",
      "    FOREIGN KEY (department_id) REFERENCES Departments(department_id),\n",
      "    FOREIGN KEY (category_id) REFERENCES Categories(category_id)\n",
      ");\n",
      "\n",
      "-- Create the SKUs table\n",
      "CREATE TABLE SKUs (\n",
      "    sku_id INT PRIMARY KEY AUTO_INCREMENT,\n",
      "    item_id INT NOT NULL,\n",
      "    size VARCHAR(20) NOT NULL,\n",
      "    color VARCHAR(50) NOT NULL,\n",
      "    price DECIMAL(10, 2) NOT NULL,\n",
      "    stock_quantity INT NOT NULL,\n",
      "    FOREIGN KEY (item_id) REFERENCES Items(item_id)\n",
      ");\n",
      "\n",
      "-- Create the Languages table\n",
      "CREATE TABLE Languages (\n",
      "    language_id INT PRIMARY KEY AUTO_INCREMENT,\n",
      "    language_code VARCHAR(5) UNIQUE NOT NULL,  -- e.g., 'en', 'es', 'fr'\n",
      "    language_name VARCHAR(50) NOT NULL\n",
      ");\n",
      "\n",
      "\n",
      "-- Create the Customers table\n",
      "CREATE TABLE Customers (\n",
      "    customer_id INT PRIMARY KEY AUTO_INCREMENT,\n",
      "    first_name VARCHAR(255) NOT NULL,\n",
      "    last_name VARCHAR(255) NOT NULL,\n",
      "    email VARCHAR(255) UNIQUE NOT NULL,\n",
      "    password VARCHAR(255) NOT NULL,  -- Store securely hashed passwords!\n",
      "    registration_date TIMESTAMP DEFAULT CURRENT_TIMESTAMP\n",
      ");\n",
      "\n",
      "-- Create the Addresses table\n",
      "CREATE TABLE Addresses (\n",
      "    address_id INT PRIMARY KEY AUTO_INCREMENT,\n",
      "    customer_id INT NOT NULL,\n",
      "    address_line1 VARCHAR(255) NOT NULL,\n",
      "    address_line2 VARCHAR(255),\n",
      "    city VARCHAR(255) NOT NULL,\n",
      "    state VARCHAR(255),\n",
      "    zip_code VARCHAR(20) NOT NULL,\n",
      "    country VARCHAR(255) NOT NULL,\n",
      "    FOREIGN KEY (customer_id) REFERENCES Customers(customer_id)\n",
      ");\n",
      "\n",
      "-- Create the Carts table\n",
      "CREATE TABLE Carts (\n",
      "    cart_id INT PRIMARY KEY AUTO_INCREMENT,\n",
      "    customer_id INT,\n",
      "    created_at TIMESTAMP DEFAULT CURRENT_TIMESTAMP,\n",
      "    FOREIGN KEY (customer_id) REFERENCES Customers(customer_id)\n",
      ");\n",
      "\n",
      "\n",
      "-- Create the CartItems table\n",
      "CREATE TABLE CartItems (\n",
      "    cart_item_id INT PRIMARY KEY AUTO_INCREMENT,\n",
      "    cart_id INT NOT NULL,\n",
      "    sku_id INT NOT NULL,\n",
      "    quantity INT NOT NULL,\n",
      "    FOREIGN KEY (cart_id) REFERENCES Carts(cart_id),\n",
      "    FOREIGN KEY (sku_id) REFERENCES SKUs(sku_id)\n",
      ");\n",
      "\n",
      "\n",
      "-- Create the Orders table\n",
      "CREATE TABLE Orders (\n",
      "    order_id INT PRIMARY KEY AUTO_INCREMENT,\n",
      "    customer_id INT NOT NULL,\n",
      "    order_date TIMESTAMP DEFAULT CURRENT_TIMESTAMP,\n",
      "    total_amount DECIMAL(10, 2) NOT NULL,\n",
      "    shipping_address_id INT NOT NULL,\n",
      "    billing_address_id INT NOT NULL,\n",
      "    FOREIGN KEY (customer_id) REFERENCES Customers(customer_id),\n",
      "    FOREIGN KEY (shipping_address_id) REFERENCES Addresses(address_id),\n",
      "    FOREIGN KEY (billing_address_id) REFERENCES Addresses(address_id)\n",
      ");\n",
      "\n",
      "-- Create the OrderItems table\n",
      "CREATE TABLE OrderItems (\n",
      "    order_item_id INT PRIMARY KEY AUTO_INCREMENT,\n",
      "    order_id INT NOT NULL,\n",
      "    sku_id INT NOT NULL,\n",
      "    quantity INT NOT NULL,\n",
      "    FOREIGN KEY (order_id) REFERENCES Orders(order_id),\n",
      "    FOREIGN KEY (sku_id) REFERENCES SKUs(sku_id)\n",
      ");\n",
      "\n",
      "\n",
      "-- Create the Reviews table\n",
      "CREATE TABLE Reviews (\n",
      "    review_id INT PRIMARY KEY AUTO_INCREMENT,\n",
      "    customer_id INT NOT NULL,\n",
      "    sku_id INT NOT NULL,\n",
      "    rating INT NOT NULL CHECK (rating BETWEEN 1 AND 5),\n",
      "    comment TEXT,\n",
      "    review_date TIMESTAMP DEFAULT CURRENT_TIMESTAMP,\n",
      "    FOREIGN KEY (customer_id) REFERENCES Customers(customer_id),\n",
      "    FOREIGN KEY (sku_id) REFERENCES SKUs(sku_id)\n",
      ");\n",
      "\n",
      "-- Create the FavoritesLists table\n",
      "CREATE TABLE FavoritesLists (\n",
      "    list_id INT PRIMARY KEY AUTO_INCREMENT,\n",
      "    customer_id INT NOT NULL,\n",
      "    list_name VARCHAR(255) NOT NULL,\n",
      "    is_public BOOLEAN DEFAULT FALSE,\n",
      "    FOREIGN KEY (customer_id) REFERENCES Customers(customer_id)\n",
      ");\n",
      "\n",
      "-- Create the Favorites table\n",
      "CREATE TABLE Favorites (\n",
      "    favorite_id INT PRIMARY KEY AUTO_INCREMENT,\n",
      "    list_id INT NOT NULL,\n",
      "    sku_id INT NOT NULL,\n",
      "    FOREIGN KEY (list_id) REFERENCES FavoritesLists(list_id),\n",
      "    FOREIGN KEY (sku_id) REFERENCES SKUs(sku_id)\n",
      ");\n"
     ]
    }
   ],
   "source": [
    "print(sql)"
   ]
  },
  {
   "cell_type": "code",
   "execution_count": null,
   "metadata": {},
   "outputs": [],
   "source": []
  }
 ],
 "metadata": {
  "kernelspec": {
   "display_name": "text2sql",
   "language": "python",
   "name": "python3"
  },
  "language_info": {
   "codemirror_mode": {
    "name": "ipython",
    "version": 3
   },
   "file_extension": ".py",
   "mimetype": "text/x-python",
   "name": "python",
   "nbconvert_exporter": "python",
   "pygments_lexer": "ipython3",
   "version": "3.12.7"
  }
 },
 "nbformat": 4,
 "nbformat_minor": 2
}
