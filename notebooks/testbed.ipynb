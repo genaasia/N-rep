{
 "cells": [
  {
   "cell_type": "code",
   "execution_count": 1,
   "metadata": {},
   "outputs": [
    {
     "name": "stdout",
     "output_type": "stream",
     "text": [
      "hello, world!\n"
     ]
    }
   ],
   "source": [
    "import sys\n",
    "sys.path.append(\"../src\")\n",
    "from text2sql import hello\n",
    "print(hello.message)"
   ]
  },
  {
   "cell_type": "code",
   "execution_count": 2,
   "metadata": {},
   "outputs": [],
   "source": [
    "import json\n",
    "\n",
    "from text2sql.data import (\n",
    "    get_sqlite_database_file,\n",
    "    query_sqlite_database,\n",
    "    get_sqlite_schema,\n",
    "    schema_to_basic_format,\n",
    "    schema_to_sql_create,\n",
    "    schema_to_datagrip_format\n",
    ")"
   ]
  },
  {
   "cell_type": "code",
   "execution_count": 3,
   "metadata": {},
   "outputs": [],
   "source": [
    "import glob\n",
    "import os"
   ]
  },
  {
   "cell_type": "code",
   "execution_count": 4,
   "metadata": {},
   "outputs": [],
   "source": [
    "def list_supported_databases(dataset_base_path: str, dataset: str) -> list[str]:\n",
    "    \"\"\"find all sqlite databases in the dataset directory and return their names\"\"\"\n",
    "    # handle nested or flat structure\n",
    "    flat = [os.path.basename(p) for p in glob.glob(os.path.join(dataset_base_path, dataset, \"*.sqlite\"))]\n",
    "    nested = [os.path.basename(p) for p in glob.glob(os.path.join(dataset_base_path, dataset, \"**/*.sqlite\"))]\n",
    "    found_files = sorted(list(set(flat + nested)))\n",
    "    database_names = [x.rsplit(\".\", 1)[0] for x in found_files]\n",
    "    return database_names"
   ]
  },
  {
   "cell_type": "code",
   "execution_count": 26,
   "metadata": {},
   "outputs": [],
   "source": [
    "class SqliteDataset:\n",
    "    def __init__(self, base_data_path: str, dataset_name: str):\n",
    "        self.base_data_path = base_data_path\n",
    "        self.dataset_name = dataset_name\n",
    "        self.databases = list_supported_databases(base_data_path, dataset_name)\n",
    "\n",
    "    def get_databases(self) -> list[str]:\n",
    "        \"\"\"return a list of the names of the sqlite databases in the dataset\"\"\"\n",
    "        return self.databases\n",
    "\n",
    "    def get_database_path(self, database_name: str) -> str:\n",
    "        \"\"\"return the path to the sqlite database file\"\"\"\n",
    "        if database_name not in self.databases:\n",
    "            raise ValueError(f\"Database '{database_name}' not found in dataset '{self.dataset_name}'\")\n",
    "        return get_sqlite_database_file(self.base_data_path, self.dataset_name, database_name)\n",
    "    \n",
    "    def get_database_schema(self, database_name: str) -> dict:\n",
    "        \"\"\"return a dict of the database schema\"\"\"\n",
    "        return get_sqlite_schema(self.base_data_path, self.dataset_name, database_name)\n",
    "    \n",
    "    def describe_database_schema(self, database_name: str, mode: str=\"basic\") -> str:\n",
    "        \"\"\"return a string representation of the database schema\"\"\"\n",
    "        supported_modes = [\"basic\", \"basic_types\", \"basic_relations\", \"basic_types_relations\", \"sql\", \"datagrip\"]\n",
    "        if mode not in supported_modes:\n",
    "            raise ValueError(f\"Unknown schema mode '{mode}', supported modes are: {supported_modes}\")\n",
    "        schema = self.get_database_schema(database_name)\n",
    "        if mode == \"basic\":\n",
    "            return schema_to_basic_format(database_name, schema, include_types=False, include_relations=False)\n",
    "        if mode == \"basic_types\":\n",
    "            return schema_to_basic_format(database_name, schema, include_types=True, include_relations=False)\n",
    "        if mode == \"basic_relations\":\n",
    "            return schema_to_basic_format(database_name, schema, include_types=False, include_relations=True)\n",
    "        if mode == \"basic_types_relations\":\n",
    "            return schema_to_basic_format(database_name, schema, include_types=True, include_relations=True)\n",
    "        elif mode == \"sql\":\n",
    "            return schema_to_sql_create(database_name, schema)\n",
    "        elif mode == \"datagrip\":\n",
    "            return schema_to_datagrip_format(database_name, schema)\n",
    "        else:\n",
    "            raise ValueError(f\"Unknown schema mode '{mode}', supported modes are: {supported_modes}\")\n",
    "        \n",
    "    def query_database(self, database_name: str, query: str) -> list[dict]:\n",
    "        \"\"\"return the results of the query as a list of dictionaries\"\"\"\n",
    "        database_path = self.get_database_path(database_name)\n",
    "        return query_sqlite_database(self.base_data_path, self.dataset_name, database_name, query)"
   ]
  },
  {
   "cell_type": "code",
   "execution_count": 27,
   "metadata": {},
   "outputs": [],
   "source": [
    "dataset_base_path = \"/home/derek/PythonProjects/gena/data/text2sql_datasets/sqlite_datasets\"\n",
    "dataset = \"bird\"\n",
    "database = \"language_corpus\""
   ]
  },
  {
   "cell_type": "code",
   "execution_count": 28,
   "metadata": {},
   "outputs": [
    {
     "name": "stdout",
     "output_type": "stream",
     "text": [
      "['address', 'airline', 'app_store', 'authors', 'beer_factory', 'bike_share_1', 'book_publishing_company', 'books', 'car_retails', 'cars', 'chicago_crime', 'citeseer', 'codebase_comments', 'coinmarketcap', 'college_completion', 'computer_student', 'cookbook', 'craftbeer', 'cs_semester', 'disney', 'donor', 'european_football_1', 'food_inspection', 'food_inspection_2', 'genes', 'hockey', 'human_resources', 'ice_hockey_draft', 'image_and_language', 'language_corpus', 'law_episode', 'legislator', 'mental_health_survey', 'menu', 'mondial_geo', 'movie', 'movie_3', 'movie_platform', 'movielens', 'movies_4', 'music_platform_2', 'music_tracker', 'olympics', 'professional_basketball', 'public_review_platform', 'regional_sales', 'restaurant', 'retail_complains', 'retail_world', 'retails', 'sales', 'sales_in_weather', 'shakespeare', 'shipping', 'shooting', 'simpson_episodes', 'soccer_2016', 'social_media', 'software_company', 'student_loan', 'superstore', 'synthea', 'talkingdata', 'trains', 'university', 'video_games', 'works_cycles', 'world', 'world_development_indicators']\n"
     ]
    }
   ],
   "source": [
    "bird_train_dataset = SqliteDataset(dataset_base_path, dataset)\n",
    "print(bird_train_dataset.get_databases())"
   ]
  },
  {
   "cell_type": "code",
   "execution_count": 30,
   "metadata": {},
   "outputs": [
    {
     "name": "stdout",
     "output_type": "stream",
     "text": [
      "beer_factory CREATE messages:\n",
      "\n",
      "CREATE TABLE customers (\n",
      "    CustomerID INTEGER\n",
      "    First TEXT\n",
      "    Last TEXT\n",
      "    StreetAddress TEXT\n",
      "    City TEXT\n",
      "    State TEXT\n",
      "    ZipCode INTEGER\n",
      "    Email TEXT\n",
      "    PhoneNumber TEXT\n",
      "    FirstPurchaseDate DATE\n",
      "    SubscribedToEmailList TEXT\n",
      "    Gender TEXT\n",
      ",\n",
      "    PRIMARY KEY (CustomerID)\n",
      ");\n",
      "\n",
      "CREATE TABLE geolocation (\n",
      "    LocationID INTEGER\n",
      "    Latitude REAL\n",
      "    Longitude REAL\n",
      ",\n",
      "    PRIMARY KEY (LocationID)\n",
      "    FOREIGN KEY (LocationID) REFERENCES location (LocationID)\n",
      ");\n",
      "\n",
      "CREATE TABLE location (\n",
      "    LocationID INTEGER\n",
      "    LocationName TEXT\n",
      "    StreetAddress TEXT\n",
      "    City TEXT\n",
      "    State TEXT\n",
      "    ZipCode INTEGER\n",
      ",\n",
      "    PRIMARY KEY (LocationID)\n",
      "    FOREIGN KEY (LocationID) REFERENCES geolocation (LocationID)\n",
      ");\n",
      "\n",
      "CREATE TABLE rootbeerbrand (\n",
      "    BrandID INTEGER\n",
      "    BrandName TEXT\n",
      "    FirstBrewedYear INTEGER\n",
      "    BreweryName TEXT\n",
      "    City TEXT\n",
      "    State TEXT\n",
      "    Country TEXT\n",
      "    Description TEXT\n",
      "    CaneSugar TEXT\n",
      "    CornSyrup TEXT\n",
      "    Honey TEXT\n",
      "    ArtificialSweetener TEXT\n",
      "    Caffeinated TEXT\n",
      "    Alcoholic TEXT\n",
      "    AvailableInCans TEXT\n",
      "    AvailableInBottles TEXT\n",
      "    AvailableInKegs TEXT\n",
      "    Website TEXT\n",
      "    FacebookPage TEXT\n",
      "    Twitter TEXT\n",
      "    WholesaleCost REAL\n",
      "    CurrentRetailPrice REAL\n",
      ",\n",
      "    PRIMARY KEY (BrandID)\n",
      ");\n",
      "\n",
      "CREATE TABLE rootbeer (\n",
      "    RootBeerID INTEGER\n",
      "    BrandID INTEGER\n",
      "    ContainerType TEXT\n",
      "    LocationID INTEGER\n",
      "    PurchaseDate DATE\n",
      ",\n",
      "    PRIMARY KEY (RootBeerID)\n",
      "    FOREIGN KEY (BrandID) REFERENCES rootbeerbrand (BrandID)\n",
      "    FOREIGN KEY (LocationID) REFERENCES geolocation (LocationID)\n",
      ");\n",
      "\n",
      "CREATE TABLE rootbeerreview (\n",
      "    CustomerID INTEGER\n",
      "    BrandID INTEGER\n",
      "    StarRating INTEGER\n",
      "    ReviewDate DATE\n",
      "    Review TEXT\n",
      ",\n",
      "    PRIMARY KEY (BrandID)\n",
      "    FOREIGN KEY (BrandID) REFERENCES rootbeerbrand (BrandID)\n",
      "    FOREIGN KEY (CustomerID) REFERENCES customers (CustomerID)\n",
      ");\n",
      "\n",
      "CREATE TABLE transaction (\n",
      "    TransactionID INTEGER\n",
      "    CreditCardNumber INTEGER\n",
      "    CustomerID INTEGER\n",
      "    TransactionDate DATE\n",
      "    CreditCardType TEXT\n",
      "    LocationID INTEGER\n",
      "    RootBeerID INTEGER\n",
      "    PurchasePrice REAL\n",
      ",\n",
      "    PRIMARY KEY (TransactionID)\n",
      "    FOREIGN KEY (RootBeerID) REFERENCES rootbeer (RootBeerID)\n",
      "    FOREIGN KEY (LocationID) REFERENCES location (LocationID)\n",
      "    FOREIGN KEY (CustomerID) REFERENCES customers (CustomerID)\n",
      ");\n",
      "\n"
     ]
    }
   ],
   "source": [
    "print(bird_train_dataset.describe_database_schema(\"beer_factory\", mode=\"sql\"))"
   ]
  },
  {
   "cell_type": "code",
   "execution_count": 31,
   "metadata": {},
   "outputs": [
    {
     "name": "stdout",
     "output_type": "stream",
     "text": [
      "airline tables:\n",
      "Air Carriers ( Code (INTEGER) , Description (TEXT) )\n",
      "Airports ( Code (TEXT) , Description (TEXT) )\n",
      "Airlines ( FL_DATE (TEXT) , OP_CARRIER_AIRLINE_ID (INTEGER) , TAIL_NUM (TEXT) , OP_CARRIER_FL_NUM (INTEGER) , ORIGIN_AIRPORT_ID (INTEGER) , ORIGIN_AIRPORT_SEQ_ID (INTEGER) , ORIGIN_CITY_MARKET_ID (INTEGER) , ORIGIN (TEXT) , DEST_AIRPORT_ID (INTEGER) , DEST_AIRPORT_SEQ_ID (INTEGER) , DEST_CITY_MARKET_ID (INTEGER) , DEST (TEXT) , CRS_DEP_TIME (INTEGER) , DEP_TIME (INTEGER) , DEP_DELAY (INTEGER) , DEP_DELAY_NEW (INTEGER) , ARR_TIME (INTEGER) , ARR_DELAY (INTEGER) , ARR_DELAY_NEW (INTEGER) , CANCELLED (INTEGER) , CANCELLATION_CODE (TEXT) , CRS_ELAPSED_TIME (INTEGER) , ACTUAL_ELAPSED_TIME (INTEGER) , CARRIER_DELAY (INTEGER) , WEATHER_DELAY (INTEGER) , NAS_DELAY (INTEGER) , SECURITY_DELAY (INTEGER) , LATE_AIRCRAFT_DELAY (INTEGER) )\n"
     ]
    }
   ],
   "source": [
    "print(bird_train_dataset.describe_database_schema(\"airline\", mode=\"basic_types\"))"
   ]
  },
  {
   "cell_type": "code",
   "execution_count": null,
   "metadata": {},
   "outputs": [],
   "source": []
  }
 ],
 "metadata": {
  "kernelspec": {
   "display_name": "text2sql",
   "language": "python",
   "name": "python3"
  },
  "language_info": {
   "codemirror_mode": {
    "name": "ipython",
    "version": 3
   },
   "file_extension": ".py",
   "mimetype": "text/x-python",
   "name": "python",
   "nbconvert_exporter": "python",
   "pygments_lexer": "ipython3",
   "version": "3.12.7"
  }
 },
 "nbformat": 4,
 "nbformat_minor": 2
}
