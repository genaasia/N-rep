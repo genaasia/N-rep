{
 "cells": [
  {
   "cell_type": "markdown",
   "metadata": {},
   "source": [
    "# inference example"
   ]
  },
  {
   "cell_type": "code",
   "execution_count": 31,
   "metadata": {},
   "outputs": [],
   "source": [
    "import json\n",
    "import os\n",
    "import re\n",
    "import sqlite3\n",
    "\n",
    "from typing import Any, Literal\n",
    "\n",
    "import openai\n",
    "\n",
    "from dotenv import load_dotenv\n",
    "from openai import AzureOpenAI\n",
    "from tenacity import retry, wait_random_exponential, stop_after_attempt\n"
   ]
  },
  {
   "cell_type": "code",
   "execution_count": 7,
   "metadata": {},
   "outputs": [
    {
     "data": {
      "text/plain": [
       "True"
      ]
     },
     "execution_count": 7,
     "metadata": {},
     "output_type": "execute_result"
    }
   ],
   "source": [
    "load_dotenv()"
   ]
  },
  {
   "cell_type": "code",
   "execution_count": 9,
   "metadata": {},
   "outputs": [
    {
     "name": "stdout",
     "output_type": "stream",
     "text": [
      "1.61.1\n"
     ]
    }
   ],
   "source": [
    "# for o3, we need version 1.61.1 so upgrade if needed\n",
    "print(openai.__version__)"
   ]
  },
  {
   "cell_type": "markdown",
   "metadata": {},
   "source": [
    "## basic functions"
   ]
  },
  {
   "cell_type": "code",
   "execution_count": 15,
   "metadata": {},
   "outputs": [],
   "source": [
    "# create the client (CAPS because GLOBAL)\n",
    "AZURE_CLIENT = AzureOpenAI(\n",
    "    api_key=os.getenv(\"AZURE_OPENAI_API_KEY\"),\n",
    "    api_version=\"2024-12-01-preview\",\n",
    "    azure_endpoint=os.getenv(\"AZURE_OPENAI_ENDPOINT\"),\n",
    "    timeout=60,\n",
    "    max_retries=5,\n",
    ")"
   ]
  },
  {
   "cell_type": "markdown",
   "metadata": {},
   "source": [
    "### database functions\n",
    "\n",
    "taken from `src/text2sql/data/sqlite_functions.py` and `src/text2sql/data/schema_to_text.py`\n",
    "\n",
    "for other formats besides DAIL-SQL-like, see `schema_to_text.py`"
   ]
  },
  {
   "cell_type": "code",
   "execution_count": 27,
   "metadata": {},
   "outputs": [],
   "source": [
    "def get_sqlite_database_file(base_dir: str, database: str) -> str:\n",
    "    \"\"\"get path to sqlite database file based on dataset and database name\"\"\"\n",
    "    # support nested and flat directory structures\n",
    "    sqlite_flat_path = os.path.join(base_dir, database + \".sqlite\")\n",
    "    sqlite_nested_path = os.path.join(base_dir, database, database + \".sqlite\")\n",
    "    for sqlite_path in [sqlite_flat_path, sqlite_nested_path]:\n",
    "        if os.path.exists(sqlite_path):\n",
    "            return sqlite_path\n",
    "    raise FileNotFoundError(f\"Database file for {database=} not found in {base_dir=}\")"
   ]
  },
  {
   "cell_type": "code",
   "execution_count": 28,
   "metadata": {},
   "outputs": [],
   "source": [
    "def query_sqlite_database(base_dir: str, database: str, sql_query: str) -> list[dict]:\n",
    "    \"\"\"query sqlite database and return results\"\"\"\n",
    "    db_path = get_sqlite_database_file(base_dir=base_dir, database=database)\n",
    "    connection = sqlite3.connect(db_path)\n",
    "    connection.row_factory = sqlite3.Row\n",
    "    cursor = connection.cursor()\n",
    "    result = cursor.execute(sql_query)\n",
    "    json_result = [dict(r) for r in result.fetchall()]\n",
    "    connection.close()\n",
    "    return json_result"
   ]
  },
  {
   "cell_type": "code",
   "execution_count": 29,
   "metadata": {},
   "outputs": [],
   "source": [
    "def get_sqlite_schema(base_dir: str, database: str) -> dict[str, Any]:\n",
    "    \"\"\"get sqlite schema, columns, relations as a dictionary\"\"\"\n",
    "    database_path = get_sqlite_database_file(base_dir=base_dir, database=database)\n",
    "    connection = sqlite3.connect(database_path)\n",
    "    cursor = connection.cursor()\n",
    "\n",
    "    schema = {\"tables\": {}}\n",
    "\n",
    "    # Get table names\n",
    "    cursor.execute(\"SELECT name FROM sqlite_master WHERE type='table'\")\n",
    "    tables = cursor.fetchall()\n",
    "\n",
    "    for table in tables:\n",
    "        table_name = table[0]\n",
    "        schema[\"tables\"][table_name] = {\"columns\": {}, \"keys\": {}, \"foreign_keys\": {}}\n",
    "\n",
    "        # Get column information\n",
    "        cursor.execute(f\"PRAGMA table_info('{table_name}')\")\n",
    "        columns = cursor.fetchall()\n",
    "        for column in columns:\n",
    "            cid, col_name, col_type, is_notnull, default_value, is_pk = column\n",
    "            schema[\"tables\"][table_name][\"columns\"][col_name] = col_type\n",
    "            if is_pk:\n",
    "                schema[\"tables\"][table_name][\"keys\"][\"primary_key\"] = [col_name]\n",
    "\n",
    "        # Get foreign key information\n",
    "        cursor.execute(f\"PRAGMA foreign_key_list('{table_name}')\")\n",
    "        foreign_keys = cursor.fetchall()\n",
    "        for fk in foreign_keys:\n",
    "            _, _, ref_table, col_name, ref_col, *_ = fk\n",
    "            schema[\"tables\"][table_name][\"foreign_keys\"][col_name] = {\n",
    "                \"referenced_table\": ref_table,\n",
    "                \"referenced_column\": ref_col,\n",
    "            }\n",
    "\n",
    "    cursor.close()\n",
    "    connection.close()\n",
    "    return schema"
   ]
  },
  {
   "cell_type": "code",
   "execution_count": 30,
   "metadata": {},
   "outputs": [],
   "source": [
    "def schema_to_basic_format(\n",
    "    database_name: str, schema: dict[str, Any], include_types: bool = False, include_relations: bool = False\n",
    ") -> str:\n",
    "    \"\"\"represent schema in basic table (column, column, ...) format (following DAIL-SQL)\n",
    "\n",
    "    this supports optional inclusion of column types and relations\n",
    "    \"\"\"\n",
    "    output = []\n",
    "\n",
    "    for table_name, table_info in schema[\"tables\"].items():\n",
    "        columns = []\n",
    "        for col_name, col_type in table_info[\"columns\"].items():\n",
    "            col_name = str(col_name)  # Convert to string in case it's an integer\n",
    "            if include_types:\n",
    "                columns.append(f\"{col_name} ({col_type})\")\n",
    "            else:\n",
    "                columns.append(col_name)\n",
    "\n",
    "        table_line = f\"table '{table_name}' with columns: {' , '.join(columns)}\"\n",
    "        output.append(table_line)\n",
    "\n",
    "    if include_relations:\n",
    "        output.append(\"\\nRelations:\")\n",
    "        for table_name, table_info in schema[\"tables\"].items():\n",
    "            if \"foreign_keys\" in table_info and table_info[\"foreign_keys\"]:\n",
    "                for fk_column, fk_info in table_info[\"foreign_keys\"].items():\n",
    "                    fk_column = str(fk_column)  # Convert to string in case it's an integer\n",
    "                    ref_table = fk_info[\"referenced_table\"]\n",
    "                    ref_column = fk_info[\"referenced_column\"]\n",
    "                    relation = f\"{table_name}.{fk_column} -> {ref_table}.{ref_column}\"\n",
    "                    output.append(relation)\n",
    "\n",
    "    return \"\\n\".join(output)"
   ]
  },
  {
   "cell_type": "markdown",
   "metadata": {},
   "source": [
    "### inference functions"
   ]
  },
  {
   "cell_type": "code",
   "execution_count": 55,
   "metadata": {},
   "outputs": [],
   "source": [
    "def inference_gpt4o(messages: list[dict], deployment_name: str, temperature: float) -> str:\n",
    "    \"\"\"inference using gpt4o family model\"\"\"\n",
    "    result = AZURE_CLIENT.chat.completions.create(\n",
    "        model=deployment_name,\n",
    "        messages=messages,\n",
    "        temperature=\"medium\"\n",
    "    )\n",
    "    result_text = result.choices[0].message.content\n",
    "    return result_text"
   ]
  },
  {
   "cell_type": "code",
   "execution_count": 56,
   "metadata": {},
   "outputs": [],
   "source": [
    "def inference_o3(messages: list[dict], deployment_name: str, reasoning_effort: Literal[\"low\", \"medium\", \"high\"]) -> str:\n",
    "    \"\"\"inference using o3 family model\"\"\"\n",
    "    result = AZURE_CLIENT.chat.completions.create(\n",
    "        model=deployment_name,\n",
    "        messages=messages,\n",
    "        reasoning_effort=reasoning_effort\n",
    "    )\n",
    "    result_text = result.choices[0].message.content\n",
    "    return result_text"
   ]
  },
  {
   "cell_type": "code",
   "execution_count": 48,
   "metadata": {},
   "outputs": [],
   "source": [
    "def extract_first_code_block(text: str) -> str:\n",
    "    \"\"\"extract code block contents from llm output\"\"\"\n",
    "    pattern = r'```(?:sql|json|\\w*)\\n?(.*?)\\n?```'\n",
    "    matches = re.finditer(pattern, text, re.DOTALL)\n",
    "    results = []\n",
    "    for match in matches:\n",
    "        content = match.group(1).strip()\n",
    "        results.append(content)\n",
    "    if len(results) == 0:\n",
    "        return None\n",
    "    return results[0]"
   ]
  },
  {
   "cell_type": "markdown",
   "metadata": {},
   "source": [
    "## data processing"
   ]
  },
  {
   "cell_type": "code",
   "execution_count": 35,
   "metadata": {},
   "outputs": [],
   "source": [
    "# point to BIRD dev.json file\n",
    "dev_json_file = \"/data/sql_datasets/bird/dev_20240627/dev.json\"\n",
    "\n",
    "# point to BIRD dev databases base directory\n",
    "dev_database_base_dir = \"/data/sql_datasets/bird/dev_20240627/dev_databases\"\n"
   ]
  },
  {
   "cell_type": "code",
   "execution_count": 36,
   "metadata": {},
   "outputs": [
    {
     "name": "stdout",
     "output_type": "stream",
     "text": [
      "Loaded 1534 examples from /data/sql_datasets/bird/dev_20240627/dev.json\n"
     ]
    }
   ],
   "source": [
    "# load dev data\n",
    "with open(dev_json_file, \"r\") as f:\n",
    "    dev_data = json.load(f)\n",
    "print(f\"Loaded {len(dev_data)} examples from {dev_json_file}\")"
   ]
  },
  {
   "cell_type": "code",
   "execution_count": 37,
   "metadata": {},
   "outputs": [
    {
     "name": "stdout",
     "output_type": "stream",
     "text": [
      "[\n",
      "  {\n",
      "    \"question_id\": 0,\n",
      "    \"db_id\": \"california_schools\",\n",
      "    \"question\": \"What is the highest eligible free rate for K-12 students in the schools in Alameda County?\",\n",
      "    \"evidence\": \"Eligible free rate for K-12 = `Free Meal Count (K-12)` / `Enrollment (K-12)`\",\n",
      "    \"SQL\": \"SELECT `Free Meal Count (K-12)` / `Enrollment (K-12)` FROM frpm WHERE `County Name` = 'Alameda' ORDER BY (CAST(`Free Meal Count (K-12)` AS REAL) / `Enrollment (K-12)`) DESC LIMIT 1\",\n",
      "    \"difficulty\": \"simple\"\n",
      "  },\n",
      "  {\n",
      "    \"question_id\": 1,\n",
      "    \"db_id\": \"california_schools\",\n",
      "    \"question\": \"Please list the lowest three eligible free rates for students aged 5-17 in continuation schools.\",\n",
      "    \"evidence\": \"Eligible free rates for students aged 5-17 = `Free Meal Count (Ages 5-17)` / `Enrollment (Ages 5-17)`\",\n",
      "    \"SQL\": \"SELECT `Free Meal Count (Ages 5-17)` / `Enrollment (Ages 5-17)` FROM frpm WHERE `Educational Option Type` = 'Continuation School' AND `Free Meal Count (Ages 5-17)` / `Enrollment (Ages 5-17)` IS NOT NULL ORDER BY `Free Meal Count (Ages 5-17)` / `Enrollment (Ages 5-17)` ASC LIMIT 3\",\n",
      "    \"difficulty\": \"moderate\"\n",
      "  }\n",
      "]\n"
     ]
    }
   ],
   "source": [
    "print(json.dumps(dev_data[:2], indent=2))"
   ]
  },
  {
   "cell_type": "code",
   "execution_count": 41,
   "metadata": {},
   "outputs": [
    {
     "name": "stdout",
     "output_type": "stream",
     "text": [
      "table 'frpm' with columns: CDSCode (TEXT) , Academic Year (TEXT) , County Code (TEXT) , District Code (INTEGER) , School Code (TEXT) , County Name (TEXT) , District Name (TEXT) , School Name (TEXT) , District Type (TEXT) , School Type (TEXT) , Educational Option Type (TEXT) , NSLP Provision Status (TEXT) , Charter School (Y/N) (INTEGER) , Charter School Number (TEXT) , Charter Funding Type (TEXT) , IRC (INTEGER) , Low Grade (TEXT) , High Grade (TEXT) , Enrollment (K-12) (REAL) , Free Meal Count (K-12) (REAL) , Percent (%) Eligible Free (K-12) (REAL) , FRPM Count (K-12) (REAL) , Percent (%) Eligible FRPM (K-12) (REAL) , Enrollment (Ages 5-17) (REAL) , Free Meal Count (Ages 5-17) (REAL) , Percent (%) Eligible Free (Ages 5-17) (REAL) , FRPM Count (Ages 5-17) (REAL) , Percent (%) Eligible FRPM (Ages 5-17) (REAL) , 2013-14 CALPADS Fall 1 Certification Status (INTEGER)\n",
      "table 'satscores' with columns: cds (TEXT) , rtype (TEXT) , sname (TEXT) , dname (TEXT) , cname (TEXT) , enroll12 (INTEGER) , NumTstTakr (INTEGER) , AvgScrRead (INTEGER) , AvgScrMath (INTEGER) , AvgScrWrite (INTEGER) , NumGE1500 (INTEGER)\n",
      "table 'schools' with columns: CDSCode (TEXT) , NCESDist (TEXT) , NCESSchool (TEXT) , StatusType (TEXT) , County (TEXT) , District (TEXT) , School (TEXT) , Street (TEXT) , StreetAbr (TEXT) , City (TEXT) , Zip (TEXT) , State (TEXT) , MailStreet (TEXT) , MailStrAbr (TEXT) , MailCity (TEXT) , MailZip (TEXT) , MailState (TEXT) , Phone (TEXT) , Ext (TEXT) , Website (TEXT) , OpenDate (DATE) , ClosedDate (DATE) , Charter (INTEGER) , CharterNum (TEXT) , FundingType (TEXT) , DOC (TEXT) , DOCType (TEXT) , SOC (TEXT) , SOCType (TEXT) , EdOpsCode (TEXT) , EdOpsName (TEXT) , EILCode (TEXT) , EILName (TEXT) , GSoffered (TEXT) , GSserved (TEXT) , Virtual (TEXT) , Magnet (INTEGER) , Latitude (REAL) , Longitude (REAL) , AdmFName1 (TEXT) , AdmLName1 (TEXT) , AdmEmail1 (TEXT) , AdmFName2 (TEXT) , AdmLName2 (TEXT) , AdmEmail2 (TEXT) , AdmFName3 (TEXT) , AdmLName3 (TEXT) , AdmEmail3 (TEXT) , LastUpdate (DATE)\n",
      "\n",
      "Relations:\n",
      "frpm.CDSCode -> schools.CDSCode\n",
      "satscores.cds -> schools.CDSCode\n"
     ]
    }
   ],
   "source": [
    "# get the schema for the first sample (\"california_schools\")\n",
    "# first, get the tables and columns info\n",
    "schema_info: dict = get_sqlite_schema(base_dir=dev_database_base_dir, database=dev_data[0][\"db_id\"])\n",
    "# then, format it to DAIL-SQL format, here we add types and relations (db name not used here, but used in related functions)\n",
    "schema_description: str = schema_to_basic_format(dev_data[0][\"db_id\"], schema_info, include_types=True, include_relations=True)\n",
    "print(schema_description)"
   ]
  },
  {
   "cell_type": "markdown",
   "metadata": {},
   "source": [
    "## inference\n",
    "\n",
    "this is example with `o3` model"
   ]
  },
  {
   "cell_type": "code",
   "execution_count": 43,
   "metadata": {},
   "outputs": [],
   "source": [
    "# create messages for inference\n",
    "# gpt-4o uses \"system prompts\" and o3 uses \"developer messages\" \n",
    "# but the api is forwards and backwards-compatible so we use \"system prompt\" for both\n",
    "system_prompt = \"You are a data scientist who writes SQL. Based on the information provided by the user, write an SQL query to answer their question. Output the result as SQL inside a markdown code block. do not output anything else.\"\n",
    "\n",
    "# load the data from first question\n",
    "idx = 0\n",
    "question = dev_data[idx][\"question\"]\n",
    "evidence = dev_data[idx][\"evidence\"]\n",
    "schema_info: dict = get_sqlite_schema(base_dir=dev_database_base_dir, database=dev_data[0][\"db_id\"])\n",
    "schema_description: str = schema_to_basic_format(dev_data[0][\"db_id\"], schema_info, include_types=True, include_relations=True)\n",
    "\n",
    "# user input\n",
    "user_message = f\"\"\"database schema:\n",
    "```\n",
    "{schema_description}\n",
    "```\n",
    "\n",
    "question: {question}\n",
    "evidence: {evidence}\n",
    "\n",
    "give me the appropriate SQLite SQL query in a markdown code block.\"\"\"\n",
    "\n",
    "# messages\n",
    "messages: list[dict] = [\n",
    "    {\"role\": \"system\", \"content\": system_prompt}, \n",
    "    {\"role\": \"user\", \"content\": user_message}\n",
    "]"
   ]
  },
  {
   "cell_type": "code",
   "execution_count": 57,
   "metadata": {},
   "outputs": [
    {
     "name": "stdout",
     "output_type": "stream",
     "text": [
      "```sql\n",
      "SELECT MAX(\"Free Meal Count (K-12)\" / \"Enrollment (K-12)\") AS highest_free_rate\n",
      "FROM frpm\n",
      "WHERE \"County Name\" = 'Alameda County'\n",
      "  AND \"Enrollment (K-12)\" > 0;\n",
      "```\n"
     ]
    }
   ],
   "source": [
    "# run inference\n",
    "raw_output: str = inference_o3(\n",
    "    messages=messages, \n",
    "    deployment_name=\"gena-o3-mini\", \n",
    "    reasoning_effort=\"medium\"\n",
    ")\n",
    "print(raw_output)"
   ]
  },
  {
   "cell_type": "code",
   "execution_count": 58,
   "metadata": {},
   "outputs": [
    {
     "name": "stdout",
     "output_type": "stream",
     "text": [
      "SELECT MAX(\"Free Meal Count (K-12)\" / \"Enrollment (K-12)\") AS highest_free_rate\n",
      "FROM frpm\n",
      "WHERE \"County Name\" = 'Alameda County'\n",
      "  AND \"Enrollment (K-12)\" > 0;\n"
     ]
    }
   ],
   "source": [
    "# process output\n",
    "sql_prediction: str = extract_first_code_block(raw_output)\n",
    "print(sql_prediction)"
   ]
  },
  {
   "cell_type": "markdown",
   "metadata": {},
   "source": [
    "## get database result"
   ]
  },
  {
   "cell_type": "code",
   "execution_count": 59,
   "metadata": {},
   "outputs": [],
   "source": [
    "# execute the SQL query\n",
    "result: list[dict] = query_sqlite_database(\n",
    "    base_dir=dev_database_base_dir, \n",
    "    database=dev_data[idx][\"db_id\"],  # \"california_schools\"\n",
    "    sql_query=sql_prediction\n",
    ")"
   ]
  },
  {
   "cell_type": "code",
   "execution_count": 61,
   "metadata": {},
   "outputs": [
    {
     "name": "stdout",
     "output_type": "stream",
     "text": [
      "[{'highest_free_rate': None}]\n"
     ]
    }
   ],
   "source": [
    "print(result)"
   ]
  },
  {
   "cell_type": "code",
   "execution_count": null,
   "metadata": {},
   "outputs": [],
   "source": []
  }
 ],
 "metadata": {
  "kernelspec": {
   "display_name": "nlp",
   "language": "python",
   "name": "python3"
  },
  "language_info": {
   "codemirror_mode": {
    "name": "ipython",
    "version": 3
   },
   "file_extension": ".py",
   "mimetype": "text/x-python",
   "name": "python",
   "nbconvert_exporter": "python",
   "pygments_lexer": "ipython3",
   "version": "3.12.2"
  }
 },
 "nbformat": 4,
 "nbformat_minor": 2
}
